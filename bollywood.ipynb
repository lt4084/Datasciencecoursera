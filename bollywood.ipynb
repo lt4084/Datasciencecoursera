{
  "nbformat": 4,
  "nbformat_minor": 0,
  "metadata": {
    "colab": {
      "name": "Copy_of_Adult_Dataset_Projec_cluster_confusion_matrix.ipynb",
      "provenance": [],
      "collapsed_sections": [],
      "include_colab_link": true
    },
    "kernelspec": {
      "display_name": "Python 3",
      "language": "python",
      "name": "python3"
    },
    "language_info": {
      "codemirror_mode": {
        "name": "ipython",
        "version": 3
      },
      "file_extension": ".py",
      "mimetype": "text/x-python",
      "name": "python",
      "nbconvert_exporter": "python",
      "pygments_lexer": "ipython3",
      "version": "3.7.4"
    }
  },
  "cells": [
    {
      "cell_type": "markdown",
      "metadata": {
        "id": "view-in-github",
        "colab_type": "text"
      },
      "source": [
        "<a href=\"https://colab.research.google.com/github/lt4084/Datasciencecoursera/blob/master/bollywood.ipynb\" target=\"_parent\"><img src=\"https://colab.research.google.com/assets/colab-badge.svg\" alt=\"Open In Colab\"/></a>"
      ]
    },
    {
      "cell_type": "code",
      "metadata": {
        "colab_type": "code",
        "id": "XYw_NxcEQ5_F",
        "colab": {}
      },
      "source": [
        "import pandas as pd\n",
        "import seaborn as sns\n",
        "import matplotlib.pyplot as plt\n",
        "plt.style.use('fivethirtyeight')  \n",
        "import warnings\n",
        "warnings.filterwarnings('ignore')"
      ],
      "execution_count": 0,
      "outputs": []
    },
    {
      "cell_type": "code",
      "metadata": {
        "colab_type": "code",
        "id": "6VQffYDrROFe",
        "outputId": "9eb76de0-e4ba-4b6e-9c0d-f29ccf1d410a",
        "colab": {
          "resources": {
            "http://localhost:8080/nbextensions/google.colab/files.js": {
              "data": "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",
              "headers": [
                [
                  "content-type",
                  "application/javascript"
                ]
              ],
              "ok": true,
              "status": 200,
              "status_text": ""
            }
          },
          "base_uri": "https://localhost:8080/",
          "height": 74
        }
      },
      "source": [
        "from google.colab import files\n",
        "uploaded = files.upload()"
      ],
      "execution_count": 0,
      "outputs": [
        {
          "output_type": "display_data",
          "data": {
            "text/html": [
              "\n",
              "     <input type=\"file\" id=\"files-7a5008e2-212e-44c0-9e81-da2938fca6ae\" name=\"files[]\" multiple disabled />\n",
              "     <output id=\"result-7a5008e2-212e-44c0-9e81-da2938fca6ae\">\n",
              "      Upload widget is only available when the cell has been executed in the\n",
              "      current browser session. Please rerun this cell to enable.\n",
              "      </output>\n",
              "      <script src=\"/nbextensions/google.colab/files.js\"></script> "
            ],
            "text/plain": [
              "<IPython.core.display.HTML object>"
            ]
          },
          "metadata": {
            "tags": []
          }
        },
        {
          "output_type": "stream",
          "text": [
            "Saving adultTraining.xlsx to adultTraining.xlsx\n"
          ],
          "name": "stdout"
        }
      ]
    },
    {
      "cell_type": "code",
      "metadata": {
        "colab_type": "code",
        "id": "xA7t1Wp5RwSG",
        "outputId": "876f1cb3-3f9a-4706-9edf-8ec3362eef37",
        "colab": {
          "base_uri": "https://localhost:8080/",
          "height": 34
        }
      },
      "source": [
        "ls"
      ],
      "execution_count": 0,
      "outputs": [
        {
          "output_type": "stream",
          "text": [
            "adultTraining.xlsx  \u001b[0m\u001b[01;34msample_data\u001b[0m/\n"
          ],
          "name": "stdout"
        }
      ]
    },
    {
      "cell_type": "code",
      "metadata": {
        "colab_type": "code",
        "id": "TmRsywRCQ5_i",
        "colab": {}
      },
      "source": [
        "data1=pd.read_excel('adultTraining.xlsx',na_values=[\" ?\"], header= None)"
      ],
      "execution_count": 0,
      "outputs": []
    },
    {
      "cell_type": "code",
      "metadata": {
        "colab_type": "code",
        "id": "ZXDQWQMkQ5_t",
        "colab": {}
      },
      "source": [
        "data1.columns = [\"age\",\"workclass\",\"fnlwg\",\"education\",\"education_num\",\"marital_status\",\"occupation\",\"relationship\",\"race\", \"sex\",\"capital_gain\",\"capital_loss\",\"hours_per_week\",\"native_country\",\"y\"]"
      ],
      "execution_count": 0,
      "outputs": []
    },
    {
      "cell_type": "code",
      "metadata": {
        "colab_type": "code",
        "id": "PxihyHmpQ5_5",
        "outputId": "ae4fb205-90b9-4264-fcb0-687812c922d2",
        "colab": {
          "base_uri": "https://localhost:8080/",
          "height": 292
        }
      },
      "source": [
        "data1.head()"
      ],
      "execution_count": 0,
      "outputs": [
        {
          "output_type": "execute_result",
          "data": {
            "text/html": [
              "<div>\n",
              "<style scoped>\n",
              "    .dataframe tbody tr th:only-of-type {\n",
              "        vertical-align: middle;\n",
              "    }\n",
              "\n",
              "    .dataframe tbody tr th {\n",
              "        vertical-align: top;\n",
              "    }\n",
              "\n",
              "    .dataframe thead th {\n",
              "        text-align: right;\n",
              "    }\n",
              "</style>\n",
              "<table border=\"1\" class=\"dataframe\">\n",
              "  <thead>\n",
              "    <tr style=\"text-align: right;\">\n",
              "      <th></th>\n",
              "      <th>age</th>\n",
              "      <th>workclass</th>\n",
              "      <th>fnlwg</th>\n",
              "      <th>education</th>\n",
              "      <th>education_num</th>\n",
              "      <th>marital_status</th>\n",
              "      <th>occupation</th>\n",
              "      <th>relationship</th>\n",
              "      <th>race</th>\n",
              "      <th>sex</th>\n",
              "      <th>capital_gain</th>\n",
              "      <th>capital_loss</th>\n",
              "      <th>hours_per_week</th>\n",
              "      <th>native_country</th>\n",
              "      <th>y</th>\n",
              "    </tr>\n",
              "  </thead>\n",
              "  <tbody>\n",
              "    <tr>\n",
              "      <th>0</th>\n",
              "      <td>39</td>\n",
              "      <td>State-gov</td>\n",
              "      <td>77516</td>\n",
              "      <td>Bachelors</td>\n",
              "      <td>13</td>\n",
              "      <td>Never-married</td>\n",
              "      <td>Adm-clerical</td>\n",
              "      <td>Not-in-family</td>\n",
              "      <td>White</td>\n",
              "      <td>Male</td>\n",
              "      <td>2174</td>\n",
              "      <td>0</td>\n",
              "      <td>40</td>\n",
              "      <td>United-States</td>\n",
              "      <td>&lt;=50K</td>\n",
              "    </tr>\n",
              "    <tr>\n",
              "      <th>1</th>\n",
              "      <td>50</td>\n",
              "      <td>Self-emp-not-inc</td>\n",
              "      <td>83311</td>\n",
              "      <td>Bachelors</td>\n",
              "      <td>13</td>\n",
              "      <td>Married-civ-spouse</td>\n",
              "      <td>Exec-managerial</td>\n",
              "      <td>Husband</td>\n",
              "      <td>White</td>\n",
              "      <td>Male</td>\n",
              "      <td>0</td>\n",
              "      <td>0</td>\n",
              "      <td>13</td>\n",
              "      <td>United-States</td>\n",
              "      <td>&lt;=50K</td>\n",
              "    </tr>\n",
              "    <tr>\n",
              "      <th>2</th>\n",
              "      <td>38</td>\n",
              "      <td>Private</td>\n",
              "      <td>215646</td>\n",
              "      <td>HS-grad</td>\n",
              "      <td>9</td>\n",
              "      <td>Divorced</td>\n",
              "      <td>Handlers-cleaners</td>\n",
              "      <td>Not-in-family</td>\n",
              "      <td>White</td>\n",
              "      <td>Male</td>\n",
              "      <td>0</td>\n",
              "      <td>0</td>\n",
              "      <td>40</td>\n",
              "      <td>United-States</td>\n",
              "      <td>&lt;=50K</td>\n",
              "    </tr>\n",
              "    <tr>\n",
              "      <th>3</th>\n",
              "      <td>53</td>\n",
              "      <td>Private</td>\n",
              "      <td>234721</td>\n",
              "      <td>11th</td>\n",
              "      <td>7</td>\n",
              "      <td>Married-civ-spouse</td>\n",
              "      <td>Handlers-cleaners</td>\n",
              "      <td>Husband</td>\n",
              "      <td>Black</td>\n",
              "      <td>Male</td>\n",
              "      <td>0</td>\n",
              "      <td>0</td>\n",
              "      <td>40</td>\n",
              "      <td>United-States</td>\n",
              "      <td>&lt;=50K</td>\n",
              "    </tr>\n",
              "    <tr>\n",
              "      <th>4</th>\n",
              "      <td>28</td>\n",
              "      <td>Private</td>\n",
              "      <td>338409</td>\n",
              "      <td>Bachelors</td>\n",
              "      <td>13</td>\n",
              "      <td>Married-civ-spouse</td>\n",
              "      <td>Prof-specialty</td>\n",
              "      <td>Wife</td>\n",
              "      <td>Black</td>\n",
              "      <td>Female</td>\n",
              "      <td>0</td>\n",
              "      <td>0</td>\n",
              "      <td>40</td>\n",
              "      <td>Cuba</td>\n",
              "      <td>&lt;=50K</td>\n",
              "    </tr>\n",
              "  </tbody>\n",
              "</table>\n",
              "</div>"
            ],
            "text/plain": [
              "   age          workclass   fnlwg  ... hours_per_week  native_country       y\n",
              "0   39          State-gov   77516  ...             40   United-States   <=50K\n",
              "1   50   Self-emp-not-inc   83311  ...             13   United-States   <=50K\n",
              "2   38            Private  215646  ...             40   United-States   <=50K\n",
              "3   53            Private  234721  ...             40   United-States   <=50K\n",
              "4   28            Private  338409  ...             40            Cuba   <=50K\n",
              "\n",
              "[5 rows x 15 columns]"
            ]
          },
          "metadata": {
            "tags": []
          },
          "execution_count": 8
        }
      ]
    },
    {
      "cell_type": "code",
      "metadata": {
        "colab_type": "code",
        "id": "8A4BYGa6Q6AI",
        "outputId": "8b6e2b52-7936-4f0a-f148-fb344cbb4658",
        "colab": {
          "resources": {
            "http://localhost:8080/nbextensions/google.colab/files.js": {
              "data": "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",
              "headers": [
                [
                  "content-type",
                  "application/javascript"
                ]
              ],
              "ok": true,
              "status": 200,
              "status_text": ""
            }
          },
          "base_uri": "https://localhost:8080/",
          "height": 74
        }
      },
      "source": [
        "from google.colab import files\n",
        "uploaded = files.upload()"
      ],
      "execution_count": 0,
      "outputs": [
        {
          "output_type": "display_data",
          "data": {
            "text/html": [
              "\n",
              "     <input type=\"file\" id=\"files-9bf45008-b4c7-4930-a0ab-2a4c5406b0c0\" name=\"files[]\" multiple disabled />\n",
              "     <output id=\"result-9bf45008-b4c7-4930-a0ab-2a4c5406b0c0\">\n",
              "      Upload widget is only available when the cell has been executed in the\n",
              "      current browser session. Please rerun this cell to enable.\n",
              "      </output>\n",
              "      <script src=\"/nbextensions/google.colab/files.js\"></script> "
            ],
            "text/plain": [
              "<IPython.core.display.HTML object>"
            ]
          },
          "metadata": {
            "tags": []
          }
        },
        {
          "output_type": "stream",
          "text": [
            "Saving adultTest.xlsx to adultTest.xlsx\n"
          ],
          "name": "stdout"
        }
      ]
    },
    {
      "cell_type": "code",
      "metadata": {
        "colab_type": "code",
        "id": "dvuWB9W-Q6AY",
        "outputId": "b2ccc312-73e2-4c5c-d0b7-814ac66a8b9b",
        "colab": {
          "base_uri": "https://localhost:8080/",
          "height": 34
        }
      },
      "source": [
        "ls"
      ],
      "execution_count": 0,
      "outputs": [
        {
          "output_type": "stream",
          "text": [
            "adultTest.xlsx  adultTraining.xlsx  \u001b[0m\u001b[01;34msample_data\u001b[0m/\n"
          ],
          "name": "stdout"
        }
      ]
    },
    {
      "cell_type": "code",
      "metadata": {
        "colab_type": "code",
        "id": "NuNUuI8gjpZ4",
        "colab": {}
      },
      "source": [
        "data2=pd.read_excel('adultTest.xlsx',na_values=[\" ?\"], header= None)"
      ],
      "execution_count": 0,
      "outputs": []
    },
    {
      "cell_type": "code",
      "metadata": {
        "colab_type": "code",
        "id": "tM-5v8I9jxj1",
        "colab": {}
      },
      "source": [
        "data2.columns = [\"age\",\"workclass\",\"fnlwg\",\"education\",\"education_num\",\"marital_status\",\"occupation\",\"relationship\",\"race\", \"sex\",\"capital_gain\",\"capital_loss\",\"hours_per_week\",\"native_country\",\"y\"]"
      ],
      "execution_count": 0,
      "outputs": []
    },
    {
      "cell_type": "code",
      "metadata": {
        "colab_type": "code",
        "id": "PFDD8jDMj6LH",
        "outputId": "641ca529-9516-4dde-c4f5-68d24a37b9a0",
        "colab": {
          "base_uri": "https://localhost:8080/",
          "height": 309
        }
      },
      "source": [
        "data2.head()"
      ],
      "execution_count": 0,
      "outputs": [
        {
          "output_type": "execute_result",
          "data": {
            "text/html": [
              "<div>\n",
              "<style scoped>\n",
              "    .dataframe tbody tr th:only-of-type {\n",
              "        vertical-align: middle;\n",
              "    }\n",
              "\n",
              "    .dataframe tbody tr th {\n",
              "        vertical-align: top;\n",
              "    }\n",
              "\n",
              "    .dataframe thead th {\n",
              "        text-align: right;\n",
              "    }\n",
              "</style>\n",
              "<table border=\"1\" class=\"dataframe\">\n",
              "  <thead>\n",
              "    <tr style=\"text-align: right;\">\n",
              "      <th></th>\n",
              "      <th>age</th>\n",
              "      <th>workclass</th>\n",
              "      <th>fnlwg</th>\n",
              "      <th>education</th>\n",
              "      <th>education_num</th>\n",
              "      <th>marital_status</th>\n",
              "      <th>occupation</th>\n",
              "      <th>relationship</th>\n",
              "      <th>race</th>\n",
              "      <th>sex</th>\n",
              "      <th>capital_gain</th>\n",
              "      <th>capital_loss</th>\n",
              "      <th>hours_per_week</th>\n",
              "      <th>native_country</th>\n",
              "      <th>y</th>\n",
              "    </tr>\n",
              "  </thead>\n",
              "  <tbody>\n",
              "    <tr>\n",
              "      <th>0</th>\n",
              "      <td>25</td>\n",
              "      <td>Private</td>\n",
              "      <td>226802</td>\n",
              "      <td>11th</td>\n",
              "      <td>7</td>\n",
              "      <td>Never-married</td>\n",
              "      <td>Machine-op-inspct</td>\n",
              "      <td>Own-child</td>\n",
              "      <td>Black</td>\n",
              "      <td>Male</td>\n",
              "      <td>0</td>\n",
              "      <td>0</td>\n",
              "      <td>40</td>\n",
              "      <td>United-States</td>\n",
              "      <td>&lt;=50K</td>\n",
              "    </tr>\n",
              "    <tr>\n",
              "      <th>1</th>\n",
              "      <td>38</td>\n",
              "      <td>Private</td>\n",
              "      <td>89814</td>\n",
              "      <td>HS-grad</td>\n",
              "      <td>9</td>\n",
              "      <td>Married-civ-spouse</td>\n",
              "      <td>Farming-fishing</td>\n",
              "      <td>Husband</td>\n",
              "      <td>White</td>\n",
              "      <td>Male</td>\n",
              "      <td>0</td>\n",
              "      <td>0</td>\n",
              "      <td>50</td>\n",
              "      <td>United-States</td>\n",
              "      <td>&lt;=50K</td>\n",
              "    </tr>\n",
              "    <tr>\n",
              "      <th>2</th>\n",
              "      <td>28</td>\n",
              "      <td>Local-gov</td>\n",
              "      <td>336951</td>\n",
              "      <td>Assoc-acdm</td>\n",
              "      <td>12</td>\n",
              "      <td>Married-civ-spouse</td>\n",
              "      <td>Protective-serv</td>\n",
              "      <td>Husband</td>\n",
              "      <td>White</td>\n",
              "      <td>Male</td>\n",
              "      <td>0</td>\n",
              "      <td>0</td>\n",
              "      <td>40</td>\n",
              "      <td>United-States</td>\n",
              "      <td>&gt;50K</td>\n",
              "    </tr>\n",
              "    <tr>\n",
              "      <th>3</th>\n",
              "      <td>44</td>\n",
              "      <td>Private</td>\n",
              "      <td>160323</td>\n",
              "      <td>Some-college</td>\n",
              "      <td>10</td>\n",
              "      <td>Married-civ-spouse</td>\n",
              "      <td>Machine-op-inspct</td>\n",
              "      <td>Husband</td>\n",
              "      <td>Black</td>\n",
              "      <td>Male</td>\n",
              "      <td>7688</td>\n",
              "      <td>0</td>\n",
              "      <td>40</td>\n",
              "      <td>United-States</td>\n",
              "      <td>&gt;50K</td>\n",
              "    </tr>\n",
              "    <tr>\n",
              "      <th>4</th>\n",
              "      <td>18</td>\n",
              "      <td>NaN</td>\n",
              "      <td>103497</td>\n",
              "      <td>Some-college</td>\n",
              "      <td>10</td>\n",
              "      <td>Never-married</td>\n",
              "      <td>NaN</td>\n",
              "      <td>Own-child</td>\n",
              "      <td>White</td>\n",
              "      <td>Female</td>\n",
              "      <td>0</td>\n",
              "      <td>0</td>\n",
              "      <td>30</td>\n",
              "      <td>United-States</td>\n",
              "      <td>&lt;=50K</td>\n",
              "    </tr>\n",
              "  </tbody>\n",
              "</table>\n",
              "</div>"
            ],
            "text/plain": [
              "   age   workclass   fnlwg  ... hours_per_week  native_country       y\n",
              "0   25     Private  226802  ...             40   United-States   <=50K\n",
              "1   38     Private   89814  ...             50   United-States   <=50K\n",
              "2   28   Local-gov  336951  ...             40   United-States    >50K\n",
              "3   44     Private  160323  ...             40   United-States    >50K\n",
              "4   18         NaN  103497  ...             30   United-States   <=50K\n",
              "\n",
              "[5 rows x 15 columns]"
            ]
          },
          "metadata": {
            "tags": []
          },
          "execution_count": 13
        }
      ]
    },
    {
      "cell_type": "code",
      "metadata": {
        "colab_type": "code",
        "id": "zKKgGLv-j-pg",
        "colab": {}
      },
      "source": [
        "data=pd.concat([data1,data2],ignore_index=True)"
      ],
      "execution_count": 0,
      "outputs": []
    },
    {
      "cell_type": "code",
      "metadata": {
        "colab_type": "code",
        "id": "wgJ9RksMkhPn",
        "outputId": "22d79cd5-dfa3-47a8-c540-2b9ba6b35aa4",
        "colab": {
          "base_uri": "https://localhost:8080/",
          "height": 34
        }
      },
      "source": [
        "data.shape"
      ],
      "execution_count": 0,
      "outputs": [
        {
          "output_type": "execute_result",
          "data": {
            "text/plain": [
              "(48842, 15)"
            ]
          },
          "metadata": {
            "tags": []
          },
          "execution_count": 15
        }
      ]
    },
    {
      "cell_type": "code",
      "metadata": {
        "colab_type": "code",
        "id": "K_kI7TAhQ6Al",
        "outputId": "881616b3-9b67-4010-f80f-a5dd18499c8e",
        "colab": {
          "base_uri": "https://localhost:8080/",
          "height": 289
        }
      },
      "source": [
        "data.isna().sum()"
      ],
      "execution_count": 0,
      "outputs": [
        {
          "output_type": "execute_result",
          "data": {
            "text/plain": [
              "age                  0\n",
              "workclass         2799\n",
              "fnlwg                0\n",
              "education            0\n",
              "education_num        0\n",
              "marital_status       0\n",
              "occupation        2809\n",
              "relationship         0\n",
              "race                 0\n",
              "sex                  0\n",
              "capital_gain         0\n",
              "capital_loss         0\n",
              "hours_per_week       0\n",
              "native_country     857\n",
              "y                    0\n",
              "dtype: int64"
            ]
          },
          "metadata": {
            "tags": []
          },
          "execution_count": 16
        }
      ]
    },
    {
      "cell_type": "code",
      "metadata": {
        "colab_type": "code",
        "id": "58RbIf8Zk57d",
        "colab": {}
      },
      "source": [
        "a=data.loc[0:9767, :]\n",
        "b=data.loc[9768:19536, :]\n",
        "c=data.loc[19537:29304, :]\n",
        "d=data.loc[29305:39072, :]\n",
        "e=data.loc[39073:48842, :]"
      ],
      "execution_count": 0,
      "outputs": []
    },
    {
      "cell_type": "code",
      "metadata": {
        "colab_type": "code",
        "id": "TfE7AgzGnBRP",
        "outputId": "3b73aa83-05da-4e66-f1d8-544815327838",
        "colab": {
          "base_uri": "https://localhost:8080/",
          "height": 289
        }
      },
      "source": [
        "e.isna().sum()"
      ],
      "execution_count": 0,
      "outputs": [
        {
          "output_type": "execute_result",
          "data": {
            "text/plain": [
              "age                 0\n",
              "workclass         556\n",
              "fnlwg               0\n",
              "education           0\n",
              "education_num       0\n",
              "marital_status      0\n",
              "occupation        559\n",
              "relationship        0\n",
              "race                0\n",
              "sex                 0\n",
              "capital_gain        0\n",
              "capital_loss        0\n",
              "hours_per_week      0\n",
              "native_country    171\n",
              "y                   0\n",
              "dtype: int64"
            ]
          },
          "metadata": {
            "tags": []
          },
          "execution_count": 18
        }
      ]
    },
    {
      "cell_type": "code",
      "metadata": {
        "colab_type": "code",
        "id": "xdjFTIp4n541",
        "colab": {}
      },
      "source": [
        "a['workclass'] = a['workclass'].fillna(a['workclass'].mode()[0])\n",
        "a['occupation'] = a['occupation'].fillna(a['occupation'].mode()[0])\n",
        "a['native_country'] = a['native_country'].fillna(a['native_country'].mode()[0])"
      ],
      "execution_count": 0,
      "outputs": []
    },
    {
      "cell_type": "code",
      "metadata": {
        "colab_type": "code",
        "id": "37pmpnDvqNB1",
        "colab": {}
      },
      "source": [
        "b['workclass'] = b['workclass'].fillna(b['workclass'].mode()[0])\n",
        "b['occupation'] = b['occupation'].fillna(b['occupation'].mode()[0])\n",
        "b['native_country'] = b['native_country'].fillna(b['native_country'].mode()[0])"
      ],
      "execution_count": 0,
      "outputs": []
    },
    {
      "cell_type": "code",
      "metadata": {
        "colab_type": "code",
        "id": "NrTAWkTXqjHj",
        "colab": {}
      },
      "source": [
        "c['workclass'] = c['workclass'].fillna(c['workclass'].mode()[0])\n",
        "c['occupation'] = c['occupation'].fillna(c['occupation'].mode()[0])\n",
        "c['native_country'] = c['native_country'].fillna(c['native_country'].mode()[0])"
      ],
      "execution_count": 0,
      "outputs": []
    },
    {
      "cell_type": "code",
      "metadata": {
        "colab_type": "code",
        "id": "XB2dgHtVrKTA",
        "colab": {}
      },
      "source": [
        "d['workclass'] = d['workclass'].fillna(d['workclass'].mode()[0])\n",
        "d['occupation'] = d['occupation'].fillna(d['occupation'].mode()[0])\n",
        "d['native_country'] = d['native_country'].fillna(d['native_country'].mode()[0])"
      ],
      "execution_count": 0,
      "outputs": []
    },
    {
      "cell_type": "code",
      "metadata": {
        "colab_type": "code",
        "id": "Yg-Dt4ourf_6",
        "colab": {}
      },
      "source": [
        "e['workclass'] = e['workclass'].fillna(e['workclass'].mode()[0])\n",
        "e['occupation'] = e['occupation'].fillna(e['occupation'].mode()[0])\n",
        "e['native_country'] = e['native_country'].fillna(e['native_country'].mode()[0])"
      ],
      "execution_count": 0,
      "outputs": []
    },
    {
      "cell_type": "code",
      "metadata": {
        "colab_type": "code",
        "id": "H9kPZpctru8N",
        "colab": {}
      },
      "source": [
        "mydata= pd.concat([a,b,c,d,e])"
      ],
      "execution_count": 0,
      "outputs": []
    },
    {
      "cell_type": "code",
      "metadata": {
        "colab_type": "code",
        "id": "u2KgACeXr5V1",
        "outputId": "4779f9ac-8e9c-463b-e6cb-de4d1b9331b3",
        "colab": {
          "base_uri": "https://localhost:8080/",
          "height": 34
        }
      },
      "source": [
        "mydata.shape"
      ],
      "execution_count": 0,
      "outputs": [
        {
          "output_type": "execute_result",
          "data": {
            "text/plain": [
              "(48842, 15)"
            ]
          },
          "metadata": {
            "tags": []
          },
          "execution_count": 25
        }
      ]
    },
    {
      "cell_type": "code",
      "metadata": {
        "colab_type": "code",
        "id": "tb2ZYrpqr9ZY",
        "outputId": "19a6fff6-5e1e-4395-d439-5a3db3bd89dc",
        "colab": {
          "base_uri": "https://localhost:8080/",
          "height": 289
        }
      },
      "source": [
        "mydata.isna().sum()"
      ],
      "execution_count": 0,
      "outputs": [
        {
          "output_type": "execute_result",
          "data": {
            "text/plain": [
              "age               0\n",
              "workclass         0\n",
              "fnlwg             0\n",
              "education         0\n",
              "education_num     0\n",
              "marital_status    0\n",
              "occupation        0\n",
              "relationship      0\n",
              "race              0\n",
              "sex               0\n",
              "capital_gain      0\n",
              "capital_loss      0\n",
              "hours_per_week    0\n",
              "native_country    0\n",
              "y                 0\n",
              "dtype: int64"
            ]
          },
          "metadata": {
            "tags": []
          },
          "execution_count": 26
        }
      ]
    },
    {
      "cell_type": "markdown",
      "metadata": {
        "colab_type": "text",
        "id": "xoTHxIe-Q6Av"
      },
      "source": [
        "## Missing Value Imputation"
      ]
    },
    {
      "cell_type": "code",
      "metadata": {
        "colab_type": "code",
        "id": "ZudqgwAW7_R7",
        "outputId": "1c105211-36fc-4fc1-f61a-6a53ae05a08e",
        "colab": {
          "base_uri": "https://localhost:8080/",
          "height": 357
        }
      },
      "source": [
        "mydata.info()"
      ],
      "execution_count": 0,
      "outputs": [
        {
          "output_type": "stream",
          "text": [
            "<class 'pandas.core.frame.DataFrame'>\n",
            "RangeIndex: 48842 entries, 0 to 48841\n",
            "Data columns (total 15 columns):\n",
            "age               48842 non-null int64\n",
            "workclass         48842 non-null object\n",
            "fnlwg             48842 non-null int64\n",
            "education         48842 non-null object\n",
            "education_num     48842 non-null int64\n",
            "marital_status    48842 non-null object\n",
            "occupation        48842 non-null object\n",
            "relationship      48842 non-null object\n",
            "race              48842 non-null object\n",
            "sex               48842 non-null object\n",
            "capital_gain      48842 non-null int64\n",
            "capital_loss      48842 non-null int64\n",
            "hours_per_week    48842 non-null int64\n",
            "native_country    48842 non-null object\n",
            "y                 48842 non-null object\n",
            "dtypes: int64(6), object(9)\n",
            "memory usage: 5.6+ MB\n"
          ],
          "name": "stdout"
        }
      ]
    },
    {
      "cell_type": "code",
      "metadata": {
        "colab_type": "code",
        "id": "Ox6ie5f4Q6BI",
        "outputId": "8aec7515-ec05-482d-9247-4cbd4cc1a87b",
        "colab": {
          "base_uri": "https://localhost:8080/",
          "height": 170
        }
      },
      "source": [
        "mydata.workclass.value_counts()"
      ],
      "execution_count": 0,
      "outputs": [
        {
          "output_type": "execute_result",
          "data": {
            "text/plain": [
              " Private             36705\n",
              " Self-emp-not-inc     3862\n",
              " Local-gov            3136\n",
              " State-gov            1981\n",
              " Self-emp-inc         1695\n",
              " Federal-gov          1432\n",
              " Without-pay            21\n",
              " Never-worked           10\n",
              "Name: workclass, dtype: int64"
            ]
          },
          "metadata": {
            "tags": []
          },
          "execution_count": 28
        }
      ]
    },
    {
      "cell_type": "code",
      "metadata": {
        "colab_type": "code",
        "id": "YZEbext5Q6BS",
        "outputId": "9a97eb96-e810-4f12-cd87-9b5882aa675e",
        "colab": {
          "base_uri": "https://localhost:8080/",
          "height": 304
        }
      },
      "source": [
        "sns.countplot(y='y',data=mydata)\n",
        "plt.show()"
      ],
      "execution_count": 0,
      "outputs": [
        {
          "output_type": "display_data",
          "data": {
            "image/png": "[encoded data removed]",
            "text/plain": [
              "<Figure size 432x288 with 1 Axes>"
            ]
          },
          "metadata": {
            "tags": []
          }
        }
      ]
    },
    {
      "cell_type": "markdown",
      "metadata": {
        "colab_type": "text",
        "id": "Wcj2A-upQ6Bh"
      },
      "source": [
        "The dataset we have is imbalanced"
      ]
    },
    {
      "cell_type": "code",
      "metadata": {
        "colab_type": "code",
        "id": "tm-s-yQMQ6Bk",
        "outputId": "9040f733-7bfa-4087-ba2a-1c0f212772f7",
        "colab": {
          "base_uri": "https://localhost:8080/",
          "height": 304
        }
      },
      "source": [
        "sns.countplot(y='workclass',data=mydata)\n",
        "plt.show()"
      ],
      "execution_count": 0,
      "outputs": [
        {
          "output_type": "display_data",
          "data": {
            "image/png": "[encoded data removed]",
            "text/plain": [
              "<Figure size 432x288 with 1 Axes>"
            ]
          },
          "metadata": {
            "tags": []
          }
        }
      ]
    },
    {
      "cell_type": "code",
      "metadata": {
        "colab_type": "code",
        "id": "0q5DfDh2Q6Bt",
        "outputId": "064b6fc4-ce44-43f9-cb47-96723159add1",
        "colab": {
          "base_uri": "https://localhost:8080/",
          "height": 304
        }
      },
      "source": [
        "sns.countplot(y='education',data=mydata)\n",
        "plt.show()"
      ],
      "execution_count": 0,
      "outputs": [
        {
          "output_type": "display_data",
          "data": {
            "image/png": "[encoded data removed]",
            "text/plain": [
              "<Figure size 432x288 with 1 Axes>"
            ]
          },
          "metadata": {
            "tags": []
          }
        }
      ]
    },
    {
      "cell_type": "code",
      "metadata": {
        "colab_type": "code",
        "id": "WcGmLGmZQ6B3",
        "outputId": "28299f12-8339-4648-ed74-235f4e0b5fd4",
        "colab": {
          "base_uri": "https://localhost:8080/",
          "height": 304
        }
      },
      "source": [
        "sns.countplot(y='occupation',data=mydata)\n",
        "plt.show()"
      ],
      "execution_count": 0,
      "outputs": [
        {
          "output_type": "display_data",
          "data": {
            "image/png": "[encoded data removed]",
            "text/plain": [
              "<Figure size 432x288 with 1 Axes>"
            ]
          },
          "metadata": {
            "tags": []
          }
        }
      ]
    },
    {
      "cell_type": "code",
      "metadata": {
        "colab_type": "code",
        "id": "KkIEuLtqQ6CB",
        "outputId": "3612177a-ff44-4ecc-9e29-a1c6f2479d30",
        "colab": {
          "base_uri": "https://localhost:8080/",
          "height": 304
        }
      },
      "source": [
        "sns.countplot(y='relationship',data=mydata)\n",
        "plt.show()"
      ],
      "execution_count": 0,
      "outputs": [
        {
          "output_type": "display_data",
          "data": {
            "image/png": "[encoded data removed]",
            "text/plain": [
              "<Figure size 432x288 with 1 Axes>"
            ]
          },
          "metadata": {
            "tags": []
          }
        }
      ]
    },
    {
      "cell_type": "code",
      "metadata": {
        "colab_type": "code",
        "id": "FOadhwBWQ6CK",
        "outputId": "23e036f8-1119-4e97-9709-ec4d1f1f4b73",
        "colab": {
          "base_uri": "https://localhost:8080/",
          "height": 304
        }
      },
      "source": [
        "sns.countplot(y='race',data=mydata)\n",
        "plt.show()"
      ],
      "execution_count": 0,
      "outputs": [
        {
          "output_type": "display_data",
          "data": {
            "image/png": "[encoded data removed]",
            "text/plain": [
              "<Figure size 432x288 with 1 Axes>"
            ]
          },
          "metadata": {
            "tags": []
          }
        }
      ]
    },
    {
      "cell_type": "code",
      "metadata": {
        "colab_type": "code",
        "id": "V-_8-zn2Q6CU",
        "outputId": "1a77f1fa-ceb4-4537-b54f-962c959f9f7c",
        "colab": {
          "base_uri": "https://localhost:8080/",
          "height": 304
        }
      },
      "source": [
        "sns.countplot(y='sex',data=mydata)\n",
        "plt.show()"
      ],
      "execution_count": 0,
      "outputs": [
        {
          "output_type": "display_data",
          "data": {
            "image/png": "[encoded data removed]",
            "text/plain": [
              "<Figure size 432x288 with 1 Axes>"
            ]
          },
          "metadata": {
            "tags": []
          }
        }
      ]
    },
    {
      "cell_type": "code",
      "metadata": {
        "colab_type": "code",
        "id": "wa1_6efBQ6Ce",
        "outputId": "b9f7b250-331e-49f1-8abe-73c693ae5201",
        "colab": {
          "base_uri": "https://localhost:8080/",
          "height": 306
        }
      },
      "source": [
        "sns.countplot(y='native_country',data=mydata)\n",
        "plt.show()"
      ],
      "execution_count": 0,
      "outputs": [
        {
          "output_type": "display_data",
          "data": {
            "image/png": "[encoded data removed]",
            "text/plain": [
              "<Figure size 432x288 with 1 Axes>"
            ]
          },
          "metadata": {
            "tags": []
          }
        }
      ]
    },
    {
      "cell_type": "code",
      "metadata": {
        "colab_type": "code",
        "id": "tGSfQ5UxQ6Cn",
        "outputId": "aa98fae3-449d-45fc-8e09-42c428ba907a",
        "colab": {
          "base_uri": "https://localhost:8080/",
          "height": 731
        }
      },
      "source": [
        "mydata.native_country.value_counts()"
      ],
      "execution_count": 0,
      "outputs": [
        {
          "output_type": "execute_result",
          "data": {
            "text/plain": [
              " United-States                 44689\n",
              " Mexico                          951\n",
              " Philippines                     295\n",
              " Germany                         206\n",
              " Puerto-Rico                     184\n",
              " Canada                          182\n",
              " El-Salvador                     155\n",
              " India                           151\n",
              " Cuba                            138\n",
              " England                         127\n",
              " China                           122\n",
              " South                           115\n",
              " Jamaica                         106\n",
              " Italy                           105\n",
              " Dominican-Republic              103\n",
              " Japan                            92\n",
              " Guatemala                        88\n",
              " Poland                           87\n",
              " Vietnam                          86\n",
              " Columbia                         85\n",
              " Haiti                            75\n",
              " Portugal                         67\n",
              " Taiwan                           65\n",
              " Iran                             59\n",
              " Nicaragua                        49\n",
              " Greece                           49\n",
              " Peru                             46\n",
              " Ecuador                          45\n",
              " France                           38\n",
              " Ireland                          37\n",
              " Thailand                         30\n",
              " Hong                             30\n",
              " Cambodia                         28\n",
              " Trinadad&Tobago                  27\n",
              " Laos                             23\n",
              " Yugoslavia                       23\n",
              " Outlying-US(Guam-USVI-etc)       23\n",
              " Scotland                         21\n",
              " Honduras                         20\n",
              " Hungary                          19\n",
              " Holand-Netherlands                1\n",
              "Name: native_country, dtype: int64"
            ]
          },
          "metadata": {
            "tags": []
          },
          "execution_count": 37
        }
      ]
    },
    {
      "cell_type": "markdown",
      "metadata": {
        "colab_type": "text",
        "id": "hHW6LWVvQ6Cx"
      },
      "source": [
        "## Analysis of continuous variables"
      ]
    },
    {
      "cell_type": "code",
      "metadata": {
        "colab_type": "code",
        "id": "EP2YeU6MQ6C0",
        "outputId": "a63277b9-5096-4e5d-9667-ac9dd96d5721",
        "colab": {
          "base_uri": "https://localhost:8080/",
          "height": 304
        }
      },
      "source": [
        "ax = sns.distplot(mydata.age)"
      ],
      "execution_count": 0,
      "outputs": [
        {
          "output_type": "display_data",
          "data": {
            "image/png": "[encoded data removed]",
            "text/plain": [
              "<Figure size 432x288 with 1 Axes>"
            ]
          },
          "metadata": {
            "tags": []
          }
        }
      ]
    },
    {
      "cell_type": "code",
      "metadata": {
        "colab_type": "code",
        "id": "p8TTNcqjQ6DN",
        "outputId": "a28bb4ba-ea33-4295-8601-54dca8e219e3",
        "colab": {
          "base_uri": "https://localhost:8080/",
          "height": 304
        }
      },
      "source": [
        "ax = sns.distplot(mydata.fnlwg)"
      ],
      "execution_count": 0,
      "outputs": [
        {
          "output_type": "display_data",
          "data": {
            "image/png": "[encoded data removed]",
            "text/plain": [
              "<Figure size 432x288 with 1 Axes>"
            ]
          },
          "metadata": {
            "tags": []
          }
        }
      ]
    },
    {
      "cell_type": "code",
      "metadata": {
        "colab_type": "code",
        "id": "5JYqhGnDQ6Dd",
        "outputId": "235a9d1e-9cd3-43b7-ab76-8c1aaeb1d58b",
        "colab": {
          "base_uri": "https://localhost:8080/",
          "height": 304
        }
      },
      "source": [
        "ax = sns.distplot(mydata.education_num)"
      ],
      "execution_count": 0,
      "outputs": [
        {
          "output_type": "display_data",
          "data": {
            "image/png": "[encoded data removed]",
            "text/plain": [
              "<Figure size 432x288 with 1 Axes>"
            ]
          },
          "metadata": {
            "tags": []
          }
        }
      ]
    },
    {
      "cell_type": "code",
      "metadata": {
        "colab_type": "code",
        "id": "FrWYFwUKQ6Dl",
        "outputId": "bab1803c-1b54-476f-c81c-12b1226ecd7a",
        "colab": {
          "base_uri": "https://localhost:8080/",
          "height": 304
        }
      },
      "source": [
        "ax = sns.distplot(mydata.capital_gain)"
      ],
      "execution_count": 0,
      "outputs": [
        {
          "output_type": "display_data",
          "data": {
            "image/png": "[encoded data removed]",
            "text/plain": [
              "<Figure size 432x288 with 1 Axes>"
            ]
          },
          "metadata": {
            "tags": []
          }
        }
      ]
    },
    {
      "cell_type": "code",
      "metadata": {
        "colab_type": "code",
        "id": "53d80uf3Q6Du",
        "outputId": "4e36b88d-3873-44de-d77a-759c0ea5bf95",
        "colab": {
          "base_uri": "https://localhost:8080/",
          "height": 304
        }
      },
      "source": [
        "ax = sns.distplot(mydata.capital_loss)"
      ],
      "execution_count": 0,
      "outputs": [
        {
          "output_type": "display_data",
          "data": {
            "image/png": "[encoded data removed]",
            "text/plain": [
              "<Figure size 432x288 with 1 Axes>"
            ]
          },
          "metadata": {
            "tags": []
          }
        }
      ]
    },
    {
      "cell_type": "code",
      "metadata": {
        "colab_type": "code",
        "id": "UyAqHAUcQ6D6",
        "outputId": "530d1148-409a-4562-e787-1e732fe7cc78",
        "colab": {
          "base_uri": "https://localhost:8080/",
          "height": 304
        }
      },
      "source": [
        "ax = sns.distplot(mydata.hours_per_week)"
      ],
      "execution_count": 0,
      "outputs": [
        {
          "output_type": "display_data",
          "data": {
            "image/png": "[encoded data removed]",
            "text/plain": [
              "<Figure size 432x288 with 1 Axes>"
            ]
          },
          "metadata": {
            "tags": []
          }
        }
      ]
    },
    {
      "cell_type": "markdown",
      "metadata": {
        "colab_type": "text",
        "id": "gxpQ6OMTtR0m"
      },
      "source": [
        "**Statistical Tests**\n"
      ]
    },
    {
      "cell_type": "markdown",
      "metadata": {
        "colab_type": "text",
        "id": "2Pcq9mKWusYT"
      },
      "source": [
        "**Correlation Matrix**"
      ]
    },
    {
      "cell_type": "code",
      "metadata": {
        "colab_type": "code",
        "id": "bT7C_YQ_uz2Z",
        "colab": {}
      },
      "source": [
        "cont_data= mydata[[\"hours_per_week\",\"capital_loss\",\"capital_gain\",\"education_num\",\"age\"]]"
      ],
      "execution_count": 0,
      "outputs": []
    },
    {
      "cell_type": "code",
      "metadata": {
        "colab_type": "code",
        "id": "-nOSZn7stXup",
        "outputId": "26cefb2e-998b-442b-bfa8-c6d1397c4fa5",
        "colab": {
          "base_uri": "https://localhost:8080/",
          "height": 456
        }
      },
      "source": [
        "fig=plt.gcf()\n",
        "fig.set_size_inches(10,7)\n",
        "fig=sns.heatmap(cont_data.corr(),annot=True,cmap='cubehelix',linewidths=1,linecolor='k',square=True,mask=False, vmin=-1, vmax=1,cbar_kws={\"orientation\": \"vertical\"},cbar=True)"
      ],
      "execution_count": 0,
      "outputs": [
        {
          "output_type": "display_data",
          "data": {
            "image/png": "[encoded data removed]",
            "text/plain": [
              "<Figure size 720x504 with 2 Axes>"
            ]
          },
          "metadata": {
            "tags": []
          }
        }
      ]
    },
    {
      "cell_type": "markdown",
      "metadata": {
        "colab_type": "text",
        "id": "J-pMXaPXvC_4"
      },
      "source": [
        "**T Test**"
      ]
    },
    {
      "cell_type": "code",
      "metadata": {
        "colab_type": "code",
        "id": "WEzXdPErvHwF",
        "outputId": "f95e5d59-3dd9-4a72-a04b-dbc27c7f742c",
        "colab": {
          "base_uri": "https://localhost:8080/",
          "height": 34
        }
      },
      "source": [
        "from scipy import stats\n",
        "a = mydata[mydata['y'] == ' <=50K']['hours_per_week']\n",
        "b = mydata[mydata['y'] == ' >50K']['hours_per_week']\n",
        "stats.ttest_ind(a, b)"
      ],
      "execution_count": 0,
      "outputs": [
        {
          "output_type": "execute_result",
          "data": {
            "text/plain": [
              "Ttest_indResult(statistic=-51.67554667049087, pvalue=0.0)"
            ]
          },
          "metadata": {
            "tags": []
          },
          "execution_count": 46
        }
      ]
    },
    {
      "cell_type": "code",
      "metadata": {
        "colab_type": "code",
        "id": "w5MbqlTlvBls",
        "outputId": "883d0277-5a1a-43ca-f896-386deb9613f1",
        "colab": {
          "base_uri": "https://localhost:8080/",
          "height": 34
        }
      },
      "source": [
        "from scipy import stats\n",
        "a = mydata[mydata['y'] == ' <=50K']['capital_loss']\n",
        "b = mydata[mydata['y'] == ' >50K']['capital_loss']\n",
        "stats.ttest_ind(a, b)"
      ],
      "execution_count": 0,
      "outputs": [
        {
          "output_type": "execute_result",
          "data": {
            "text/plain": [
              "Ttest_indResult(statistic=-32.970101149031215, pvalue=8.543599059617503e-236)"
            ]
          },
          "metadata": {
            "tags": []
          },
          "execution_count": 47
        }
      ]
    },
    {
      "cell_type": "code",
      "metadata": {
        "colab_type": "code",
        "id": "NW_gm1OnveTa",
        "outputId": "ee92cebe-be0d-4baf-bd51-9f0deb249044",
        "colab": {
          "base_uri": "https://localhost:8080/",
          "height": 34
        }
      },
      "source": [
        "from scipy import stats\n",
        "a = mydata[mydata['y'] == ' <=50K']['capital_gain']\n",
        "b = mydata[mydata['y'] == ' >50K']['capital_gain']\n",
        "stats.ttest_ind(a, b)"
      ],
      "execution_count": 0,
      "outputs": [
        {
          "output_type": "execute_result",
          "data": {
            "text/plain": [
              "Ttest_indResult(statistic=-50.55866959191252, pvalue=0.0)"
            ]
          },
          "metadata": {
            "tags": []
          },
          "execution_count": 48
        }
      ]
    },
    {
      "cell_type": "code",
      "metadata": {
        "colab_type": "code",
        "id": "GIwxV-_ovmaQ",
        "outputId": "dc8e44d0-a891-4539-d4ff-bf7b3cd1daf9",
        "colab": {
          "base_uri": "https://localhost:8080/",
          "height": 34
        }
      },
      "source": [
        "from scipy import stats\n",
        "a = mydata[mydata['y'] == ' <=50K']['education_num']\n",
        "b = mydata[mydata['y'] == ' >50K']['education_num']\n",
        "stats.ttest_ind(a, b)"
      ],
      "execution_count": 0,
      "outputs": [
        {
          "output_type": "execute_result",
          "data": {
            "text/plain": [
              "Ttest_indResult(statistic=-77.9446559941297, pvalue=0.0)"
            ]
          },
          "metadata": {
            "tags": []
          },
          "execution_count": 49
        }
      ]
    },
    {
      "cell_type": "code",
      "metadata": {
        "colab_type": "code",
        "id": "3vwp_OYWvxBZ",
        "outputId": "e9c8d9b8-582a-409b-e1a0-1c625146a208",
        "colab": {
          "base_uri": "https://localhost:8080/",
          "height": 34
        }
      },
      "source": [
        "from scipy import stats\n",
        "a = mydata[mydata['y'] == ' <=50K']['age']\n",
        "b = mydata[mydata['y'] == ' >50K']['age']\n",
        "stats.ttest_ind(a, b)"
      ],
      "execution_count": 0,
      "outputs": [
        {
          "output_type": "execute_result",
          "data": {
            "text/plain": [
              "Ttest_indResult(statistic=-52.31832481933848, pvalue=0.0)"
            ]
          },
          "metadata": {
            "tags": []
          },
          "execution_count": 50
        }
      ]
    },
    {
      "cell_type": "markdown",
      "metadata": {
        "colab_type": "text",
        "id": "WnilWbo5v6xp"
      },
      "source": [
        "**Chi Square Test**"
      ]
    },
    {
      "cell_type": "code",
      "metadata": {
        "colab_type": "code",
        "id": "lDIGG4dIv87a",
        "outputId": "d5095bd9-2d60-43ab-cbfb-80082016aa1d",
        "colab": {
          "base_uri": "https://localhost:8080/",
          "height": 136
        }
      },
      "source": [
        "crosstab = pd.crosstab(mydata.y,mydata.marital_status)\n",
        "stats.chi2_contingency(crosstab)\n",
        "#print('The first value is the Chi-square value, followed by the p-value, then comes the degrees of freedom')"
      ],
      "execution_count": 0,
      "outputs": [
        {
          "output_type": "execute_result",
          "data": {
            "text/plain": [
              "(9816.015037266438,\n",
              " 0.0,\n",
              " 6,\n",
              " array([[5.04584405e+03, 2.81465747e+01, 1.70241134e+04, 4.77731051e+02,\n",
              "         1.22604958e+04, 1.16389890e+03, 1.15477028e+03],\n",
              "        [1.58715595e+03, 8.85342533e+00, 5.35488663e+03, 1.50268949e+02,\n",
              "         3.85650422e+03, 3.66101102e+02, 3.63229720e+02]]))"
            ]
          },
          "metadata": {
            "tags": []
          },
          "execution_count": 51
        }
      ]
    },
    {
      "cell_type": "code",
      "metadata": {
        "colab_type": "code",
        "id": "T1O7G-fMv99W",
        "outputId": "220dc6e7-b5bb-4e47-997c-16d35586cb2e",
        "colab": {
          "base_uri": "https://localhost:8080/",
          "height": 204
        }
      },
      "source": [
        "crosstab = pd.crosstab(mydata.y,mydata.occupation)\n",
        "stats.chi2_contingency(crosstab)\n",
        "#print('The first value is the Chi-square value, followed by the p-value, then comes the degrees of freedom')"
      ],
      "execution_count": 0,
      "outputs": [
        {
          "output_type": "execute_result",
          "data": {
            "text/plain": [
              "(4963.497512695153,\n",
              " 0.0,\n",
              " 13,\n",
              " array([[4.26839001e+03, 1.14107735e+01, 5.49162493e+03, 4.62973117e+03,\n",
              "         1.13347017e+03, 1.57620818e+03, 2.29889050e+03, 3.74501587e+03,\n",
              "         1.84093813e+02, 5.98989538e+03, 7.47786024e+02, 4.18699316e+03,\n",
              "         1.09999857e+03, 1.79149144e+03],\n",
              "        [1.34260999e+03, 3.58922649e+00, 1.72737507e+03, 1.45626883e+03,\n",
              "         3.56529831e+02, 4.95791819e+02, 7.23109496e+02, 1.17798413e+03,\n",
              "         5.79061873e+01, 1.88410462e+03, 2.35213976e+02, 1.31700684e+03,\n",
              "         3.46001433e+02, 5.63508558e+02]]))"
            ]
          },
          "metadata": {
            "tags": []
          },
          "execution_count": 52
        }
      ]
    },
    {
      "cell_type": "code",
      "metadata": {
        "colab_type": "code",
        "id": "XXoeENW2v-ST",
        "outputId": "fe729ae7-be2e-4c05-ebae-bfb6df9914b0",
        "colab": {
          "base_uri": "https://localhost:8080/",
          "height": 136
        }
      },
      "source": [
        "crosstab = pd.crosstab(mydata.y,mydata.relationship)\n",
        "stats.chi2_contingency(crosstab)\n",
        "#print('The first value is the Chi-square value, followed by the p-value, then comes the degrees of freedom')"
      ],
      "execution_count": 0,
      "outputs": [
        {
          "output_type": "execute_result",
          "data": {
            "text/plain": [
              "(10088.72249015222,\n",
              " 0.0,\n",
              " 5,\n",
              " array([[14998.32070759,  9572.11754228,  1145.64166087,  5767.00493428,\n",
              "          3898.68095082,  1773.23420417],\n",
              "        [ 4717.67929241,  3010.88245772,   360.35833913,  1813.99506572,\n",
              "          1226.31904918,   557.76579583]]))"
            ]
          },
          "metadata": {
            "tags": []
          },
          "execution_count": 53
        }
      ]
    },
    {
      "cell_type": "code",
      "metadata": {
        "colab_type": "code",
        "id": "lfiEssqUwQs0",
        "outputId": "05d4bfe9-3ef7-4082-ed55-a56c516fa707",
        "colab": {
          "base_uri": "https://localhost:8080/",
          "height": 136
        }
      },
      "source": [
        "crosstab = pd.crosstab(mydata.y,mydata.race)\n",
        "stats.chi2_contingency(crosstab)\n",
        "#print('The first value is the Chi-square value, followed by the p-value, then comes the degrees of freedom')"
      ],
      "execution_count": 0,
      "outputs": [
        {
          "output_type": "execute_result",
          "data": {
            "text/plain": [
              "(487.0262868376271,\n",
              " 4.2843777102233777e-104,\n",
              " 4,\n",
              " array([[  357.53757012,  1155.53099791,  3563.96492773,   308.85160313,\n",
              "         31769.11490111],\n",
              "        [  112.46242988,   363.46900209,  1121.03507227,    97.14839687,\n",
              "          9992.88509889]]))"
            ]
          },
          "metadata": {
            "tags": []
          },
          "execution_count": 54
        }
      ]
    },
    {
      "cell_type": "code",
      "metadata": {
        "colab_type": "code",
        "id": "9UGxkGZSwRN9",
        "outputId": "87a0197b-24b2-4fd9-ac4c-c4c9bcaace0b",
        "colab": {
          "base_uri": "https://localhost:8080/",
          "height": 51
        }
      },
      "source": [
        "crosstab = pd.crosstab(mydata.y,mydata.sex)\n",
        "stats.chi2_contingency(crosstab)\n",
        "#print('The first value is the Chi-square value, followed by the p-value, then comes the degrees of freedom')"
      ],
      "execution_count": 0,
      "outputs": [
        {
          "output_type": "execute_result",
          "data": {
            "text/plain": [
              "(2248.847679013691, 0.0, 1, array([[12317.54964989, 24837.45035011],\n",
              "        [ 3874.45035011,  7812.54964989]]))"
            ]
          },
          "metadata": {
            "tags": []
          },
          "execution_count": 55
        }
      ]
    },
    {
      "cell_type": "code",
      "metadata": {
        "colab_type": "code",
        "id": "AS7rk539wkKu",
        "outputId": "9ca03271-baeb-4321-b7cf-d799cd44b473",
        "colab": {
          "base_uri": "https://localhost:8080/",
          "height": 442
        }
      },
      "source": [
        "crosstab = pd.crosstab(mydata.y,mydata.native_country)\n",
        "stats.chi2_contingency(crosstab)\n",
        "#print('The first value is the Chi-square value, followed by the p-value, then comes the degrees of freedom')"
      ],
      "execution_count": 0,
      "outputs": [
        {
          "output_type": "execute_result",
          "data": {
            "text/plain": [
              "(451.48038143402295,\n",
              " 4.302769052294653e-71,\n",
              " 40,\n",
              " array([[2.13001106e+01, 1.38450719e+02, 9.28076246e+01, 6.46610499e+01,\n",
              "         1.04979116e+02, 7.83539781e+01, 3.42323205e+01, 1.17911326e+02,\n",
              "         9.66112158e+01, 2.89072929e+01, 1.56707956e+02, 3.72751935e+01,\n",
              "         6.69432046e+01, 5.70538676e+01, 7.60718234e-01, 1.52143647e+01,\n",
              "         2.28215470e+01, 1.44536465e+01, 1.14868453e+02, 4.48823758e+01,\n",
              "         2.81465747e+01, 7.98754146e+01, 8.06361328e+01, 6.99860776e+01,\n",
              "         1.74965194e+01, 7.23443041e+02, 3.72751935e+01, 1.74965194e+01,\n",
              "         3.49930388e+01, 2.24411879e+02, 6.61824864e+01, 5.09681217e+01,\n",
              "         1.39972155e+02, 1.59750829e+01, 8.74825969e+01, 4.94466852e+01,\n",
              "         2.28215470e+01, 2.05393923e+01, 3.39957372e+04, 6.54217682e+01,\n",
              "         1.74965194e+01],\n",
              "        [6.69988944e+00, 4.35492814e+01, 2.91923754e+01, 2.03389501e+01,\n",
              "         3.30208837e+01, 2.46460219e+01, 1.07676795e+01, 3.70886737e+01,\n",
              "         3.03887842e+01, 9.09270710e+00, 4.92920437e+01, 1.17248065e+01,\n",
              "         2.10567954e+01, 1.79461324e+01, 2.39281766e-01, 4.78563531e+00,\n",
              "         7.17845297e+00, 4.54635355e+00, 3.61315466e+01, 1.41176242e+01,\n",
              "         8.85342533e+00, 2.51245854e+01, 2.53638672e+01, 2.20139224e+01,\n",
              "         5.50348061e+00, 2.27556959e+02, 1.17248065e+01, 5.50348061e+00,\n",
              "         1.10069612e+01, 7.05881209e+01, 2.08175136e+01, 1.60318783e+01,\n",
              "         4.40278449e+01, 5.02491708e+00, 2.75174031e+01, 1.55533148e+01,\n",
              "         7.17845297e+00, 6.46060767e+00, 1.06932628e+04, 2.05782318e+01,\n",
              "         5.50348061e+00]]))"
            ]
          },
          "metadata": {
            "tags": []
          },
          "execution_count": 56
        }
      ]
    },
    {
      "cell_type": "markdown",
      "metadata": {
        "colab_type": "text",
        "id": "4ZFYfNBwQ6ED"
      },
      "source": [
        "## Creation of Dummy Variables"
      ]
    },
    {
      "cell_type": "code",
      "metadata": {
        "colab_type": "code",
        "id": "PjKtTwrT8eAp",
        "outputId": "daae2adc-11c7-4e60-cdb8-1779b0c0fb4c",
        "colab": {
          "base_uri": "https://localhost:8080/",
          "height": 357
        }
      },
      "source": [
        "data.info()"
      ],
      "execution_count": 0,
      "outputs": [
        {
          "output_type": "stream",
          "text": [
            "<class 'pandas.core.frame.DataFrame'>\n",
            "RangeIndex: 48842 entries, 0 to 48841\n",
            "Data columns (total 15 columns):\n",
            "age               48842 non-null int64\n",
            "workclass         48842 non-null object\n",
            "fnlwg             48842 non-null int64\n",
            "education         48842 non-null object\n",
            "education_num     48842 non-null int64\n",
            "marital_status    48842 non-null object\n",
            "occupation        48842 non-null object\n",
            "relationship      48842 non-null object\n",
            "race              48842 non-null object\n",
            "sex               48842 non-null object\n",
            "capital_gain      48842 non-null int64\n",
            "capital_loss      48842 non-null int64\n",
            "hours_per_week    48842 non-null int64\n",
            "native_country    48842 non-null object\n",
            "y                 48842 non-null object\n",
            "dtypes: int64(6), object(9)\n",
            "memory usage: 5.6+ MB\n"
          ],
          "name": "stdout"
        }
      ]
    },
    {
      "cell_type": "code",
      "metadata": {
        "colab_type": "code",
        "id": "Oi1zQ8_3Q6EF",
        "outputId": "c0ebb8c8-edf4-4620-9a02-c6e93a3f7847",
        "colab": {
          "base_uri": "https://localhost:8080/",
          "height": 102
        }
      },
      "source": [
        "data.columns"
      ],
      "execution_count": 0,
      "outputs": [
        {
          "output_type": "execute_result",
          "data": {
            "text/plain": [
              "Index(['age', 'workclass', 'fnlwg', 'education', 'education_num',\n",
              "       'marital_status', 'occupation', 'relationship', 'race', 'sex',\n",
              "       'capital_gain', 'capital_loss', 'hours_per_week', 'native_country',\n",
              "       'y'],\n",
              "      dtype='object')"
            ]
          },
          "metadata": {
            "tags": []
          },
          "execution_count": 58
        }
      ]
    },
    {
      "cell_type": "code",
      "metadata": {
        "colab_type": "code",
        "id": "u0Svn7g7Q6EN",
        "colab": {}
      },
      "source": [
        "new_data = pd.get_dummies(mydata, columns=['workclass', 'education',\n",
        "       'marital_status', 'occupation', 'relationship', 'race', 'sex', 'native_country'], drop_first=True)"
      ],
      "execution_count": 0,
      "outputs": []
    },
    {
      "cell_type": "code",
      "metadata": {
        "colab_type": "code",
        "id": "kG1TxoGCQ6EV",
        "outputId": "8d2b5027-5e9b-488b-c8b1-d4b01c033409",
        "colab": {
          "base_uri": "https://localhost:8080/",
          "height": 304
        }
      },
      "source": [
        "new_data.head()"
      ],
      "execution_count": 0,
      "outputs": [
        {
          "output_type": "execute_result",
          "data": {
            "text/html": [
              "<div>\n",
              "<style scoped>\n",
              "    .dataframe tbody tr th:only-of-type {\n",
              "        vertical-align: middle;\n",
              "    }\n",
              "\n",
              "    .dataframe tbody tr th {\n",
              "        vertical-align: top;\n",
              "    }\n",
              "\n",
              "    .dataframe thead th {\n",
              "        text-align: right;\n",
              "    }\n",
              "</style>\n",
              "<table border=\"1\" class=\"dataframe\">\n",
              "  <thead>\n",
              "    <tr style=\"text-align: right;\">\n",
              "      <th></th>\n",
              "      <th>age</th>\n",
              "      <th>fnlwg</th>\n",
              "      <th>education_num</th>\n",
              "      <th>capital_gain</th>\n",
              "      <th>capital_loss</th>\n",
              "      <th>hours_per_week</th>\n",
              "      <th>y</th>\n",
              "      <th>workclass_ Local-gov</th>\n",
              "      <th>workclass_ Never-worked</th>\n",
              "      <th>workclass_ Private</th>\n",
              "      <th>workclass_ Self-emp-inc</th>\n",
              "      <th>workclass_ Self-emp-not-inc</th>\n",
              "      <th>workclass_ State-gov</th>\n",
              "      <th>workclass_ Without-pay</th>\n",
              "      <th>education_ 11th</th>\n",
              "      <th>education_ 12th</th>\n",
              "      <th>education_ 1st-4th</th>\n",
              "      <th>education_ 5th-6th</th>\n",
              "      <th>education_ 7th-8th</th>\n",
              "      <th>education_ 9th</th>\n",
              "      <th>education_ Assoc-acdm</th>\n",
              "      <th>education_ Assoc-voc</th>\n",
              "      <th>education_ Bachelors</th>\n",
              "      <th>education_ Doctorate</th>\n",
              "      <th>education_ HS-grad</th>\n",
              "      <th>education_ Masters</th>\n",
              "      <th>education_ Preschool</th>\n",
              "      <th>education_ Prof-school</th>\n",
              "      <th>education_ Some-college</th>\n",
              "      <th>marital_status_ Married-AF-spouse</th>\n",
              "      <th>marital_status_ Married-civ-spouse</th>\n",
              "      <th>marital_status_ Married-spouse-absent</th>\n",
              "      <th>marital_status_ Never-married</th>\n",
              "      <th>marital_status_ Separated</th>\n",
              "      <th>marital_status_ Widowed</th>\n",
              "      <th>occupation_ Armed-Forces</th>\n",
              "      <th>occupation_ Craft-repair</th>\n",
              "      <th>occupation_ Exec-managerial</th>\n",
              "      <th>occupation_ Farming-fishing</th>\n",
              "      <th>occupation_ Handlers-cleaners</th>\n",
              "      <th>...</th>\n",
              "      <th>native_country_ Canada</th>\n",
              "      <th>native_country_ China</th>\n",
              "      <th>native_country_ Columbia</th>\n",
              "      <th>native_country_ Cuba</th>\n",
              "      <th>native_country_ Dominican-Republic</th>\n",
              "      <th>native_country_ Ecuador</th>\n",
              "      <th>native_country_ El-Salvador</th>\n",
              "      <th>native_country_ England</th>\n",
              "      <th>native_country_ France</th>\n",
              "      <th>native_country_ Germany</th>\n",
              "      <th>native_country_ Greece</th>\n",
              "      <th>native_country_ Guatemala</th>\n",
              "      <th>native_country_ Haiti</th>\n",
              "      <th>native_country_ Holand-Netherlands</th>\n",
              "      <th>native_country_ Honduras</th>\n",
              "      <th>native_country_ Hong</th>\n",
              "      <th>native_country_ Hungary</th>\n",
              "      <th>native_country_ India</th>\n",
              "      <th>native_country_ Iran</th>\n",
              "      <th>native_country_ Ireland</th>\n",
              "      <th>native_country_ Italy</th>\n",
              "      <th>native_country_ Jamaica</th>\n",
              "      <th>native_country_ Japan</th>\n",
              "      <th>native_country_ Laos</th>\n",
              "      <th>native_country_ Mexico</th>\n",
              "      <th>native_country_ Nicaragua</th>\n",
              "      <th>native_country_ Outlying-US(Guam-USVI-etc)</th>\n",
              "      <th>native_country_ Peru</th>\n",
              "      <th>native_country_ Philippines</th>\n",
              "      <th>native_country_ Poland</th>\n",
              "      <th>native_country_ Portugal</th>\n",
              "      <th>native_country_ Puerto-Rico</th>\n",
              "      <th>native_country_ Scotland</th>\n",
              "      <th>native_country_ South</th>\n",
              "      <th>native_country_ Taiwan</th>\n",
              "      <th>native_country_ Thailand</th>\n",
              "      <th>native_country_ Trinadad&amp;Tobago</th>\n",
              "      <th>native_country_ United-States</th>\n",
              "      <th>native_country_ Vietnam</th>\n",
              "      <th>native_country_ Yugoslavia</th>\n",
              "    </tr>\n",
              "  </thead>\n",
              "  <tbody>\n",
              "    <tr>\n",
              "      <th>0</th>\n",
              "      <td>39</td>\n",
              "      <td>77516</td>\n",
              "      <td>13</td>\n",
              "      <td>2174</td>\n",
              "      <td>0</td>\n",
              "      <td>40</td>\n",
              "      <td>&lt;=50K</td>\n",
              "      <td>0</td>\n",
              "      <td>0</td>\n",
              "      <td>0</td>\n",
              "      <td>0</td>\n",
              "      <td>0</td>\n",
              "      <td>1</td>\n",
              "      <td>0</td>\n",
              "      <td>0</td>\n",
              "      <td>0</td>\n",
              "      <td>0</td>\n",
              "      <td>0</td>\n",
              "      <td>0</td>\n",
              "      <td>0</td>\n",
              "      <td>0</td>\n",
              "      <td>0</td>\n",
              "      <td>1</td>\n",
              "      <td>0</td>\n",
              "      <td>0</td>\n",
              "      <td>0</td>\n",
              "      <td>0</td>\n",
              "      <td>0</td>\n",
              "      <td>0</td>\n",
              "      <td>0</td>\n",
              "      <td>0</td>\n",
              "      <td>0</td>\n",
              "      <td>1</td>\n",
              "      <td>0</td>\n",
              "      <td>0</td>\n",
              "      <td>0</td>\n",
              "      <td>0</td>\n",
              "      <td>0</td>\n",
              "      <td>0</td>\n",
              "      <td>0</td>\n",
              "      <td>...</td>\n",
              "      <td>0</td>\n",
              "      <td>0</td>\n",
              "      <td>0</td>\n",
              "      <td>0</td>\n",
              "      <td>0</td>\n",
              "      <td>0</td>\n",
              "      <td>0</td>\n",
              "      <td>0</td>\n",
              "      <td>0</td>\n",
              "      <td>0</td>\n",
              "      <td>0</td>\n",
              "      <td>0</td>\n",
              "      <td>0</td>\n",
              "      <td>0</td>\n",
              "      <td>0</td>\n",
              "      <td>0</td>\n",
              "      <td>0</td>\n",
              "      <td>0</td>\n",
              "      <td>0</td>\n",
              "      <td>0</td>\n",
              "      <td>0</td>\n",
              "      <td>0</td>\n",
              "      <td>0</td>\n",
              "      <td>0</td>\n",
              "      <td>0</td>\n",
              "      <td>0</td>\n",
              "      <td>0</td>\n",
              "      <td>0</td>\n",
              "      <td>0</td>\n",
              "      <td>0</td>\n",
              "      <td>0</td>\n",
              "      <td>0</td>\n",
              "      <td>0</td>\n",
              "      <td>0</td>\n",
              "      <td>0</td>\n",
              "      <td>0</td>\n",
              "      <td>0</td>\n",
              "      <td>1</td>\n",
              "      <td>0</td>\n",
              "      <td>0</td>\n",
              "    </tr>\n",
              "    <tr>\n",
              "      <th>1</th>\n",
              "      <td>50</td>\n",
              "      <td>83311</td>\n",
              "      <td>13</td>\n",
              "      <td>0</td>\n",
              "      <td>0</td>\n",
              "      <td>13</td>\n",
              "      <td>&lt;=50K</td>\n",
              "      <td>0</td>\n",
              "      <td>0</td>\n",
              "      <td>0</td>\n",
              "      <td>0</td>\n",
              "      <td>1</td>\n",
              "      <td>0</td>\n",
              "      <td>0</td>\n",
              "      <td>0</td>\n",
              "      <td>0</td>\n",
              "      <td>0</td>\n",
              "      <td>0</td>\n",
              "      <td>0</td>\n",
              "      <td>0</td>\n",
              "      <td>0</td>\n",
              "      <td>0</td>\n",
              "      <td>1</td>\n",
              "      <td>0</td>\n",
              "      <td>0</td>\n",
              "      <td>0</td>\n",
              "      <td>0</td>\n",
              "      <td>0</td>\n",
              "      <td>0</td>\n",
              "      <td>0</td>\n",
              "      <td>1</td>\n",
              "      <td>0</td>\n",
              "      <td>0</td>\n",
              "      <td>0</td>\n",
              "      <td>0</td>\n",
              "      <td>0</td>\n",
              "      <td>0</td>\n",
              "      <td>1</td>\n",
              "      <td>0</td>\n",
              "      <td>0</td>\n",
              "      <td>...</td>\n",
              "      <td>0</td>\n",
              "      <td>0</td>\n",
              "      <td>0</td>\n",
              "      <td>0</td>\n",
              "      <td>0</td>\n",
              "      <td>0</td>\n",
              "      <td>0</td>\n",
              "      <td>0</td>\n",
              "      <td>0</td>\n",
              "      <td>0</td>\n",
              "      <td>0</td>\n",
              "      <td>0</td>\n",
              "      <td>0</td>\n",
              "      <td>0</td>\n",
              "      <td>0</td>\n",
              "      <td>0</td>\n",
              "      <td>0</td>\n",
              "      <td>0</td>\n",
              "      <td>0</td>\n",
              "      <td>0</td>\n",
              "      <td>0</td>\n",
              "      <td>0</td>\n",
              "      <td>0</td>\n",
              "      <td>0</td>\n",
              "      <td>0</td>\n",
              "      <td>0</td>\n",
              "      <td>0</td>\n",
              "      <td>0</td>\n",
              "      <td>0</td>\n",
              "      <td>0</td>\n",
              "      <td>0</td>\n",
              "      <td>0</td>\n",
              "      <td>0</td>\n",
              "      <td>0</td>\n",
              "      <td>0</td>\n",
              "      <td>0</td>\n",
              "      <td>0</td>\n",
              "      <td>1</td>\n",
              "      <td>0</td>\n",
              "      <td>0</td>\n",
              "    </tr>\n",
              "    <tr>\n",
              "      <th>2</th>\n",
              "      <td>38</td>\n",
              "      <td>215646</td>\n",
              "      <td>9</td>\n",
              "      <td>0</td>\n",
              "      <td>0</td>\n",
              "      <td>40</td>\n",
              "      <td>&lt;=50K</td>\n",
              "      <td>0</td>\n",
              "      <td>0</td>\n",
              "      <td>1</td>\n",
              "      <td>0</td>\n",
              "      <td>0</td>\n",
              "      <td>0</td>\n",
              "      <td>0</td>\n",
              "      <td>0</td>\n",
              "      <td>0</td>\n",
              "      <td>0</td>\n",
              "      <td>0</td>\n",
              "      <td>0</td>\n",
              "      <td>0</td>\n",
              "      <td>0</td>\n",
              "      <td>0</td>\n",
              "      <td>0</td>\n",
              "      <td>0</td>\n",
              "      <td>1</td>\n",
              "      <td>0</td>\n",
              "      <td>0</td>\n",
              "      <td>0</td>\n",
              "      <td>0</td>\n",
              "      <td>0</td>\n",
              "      <td>0</td>\n",
              "      <td>0</td>\n",
              "      <td>0</td>\n",
              "      <td>0</td>\n",
              "      <td>0</td>\n",
              "      <td>0</td>\n",
              "      <td>0</td>\n",
              "      <td>0</td>\n",
              "      <td>0</td>\n",
              "      <td>1</td>\n",
              "      <td>...</td>\n",
              "      <td>0</td>\n",
              "      <td>0</td>\n",
              "      <td>0</td>\n",
              "      <td>0</td>\n",
              "      <td>0</td>\n",
              "      <td>0</td>\n",
              "      <td>0</td>\n",
              "      <td>0</td>\n",
              "      <td>0</td>\n",
              "      <td>0</td>\n",
              "      <td>0</td>\n",
              "      <td>0</td>\n",
              "      <td>0</td>\n",
              "      <td>0</td>\n",
              "      <td>0</td>\n",
              "      <td>0</td>\n",
              "      <td>0</td>\n",
              "      <td>0</td>\n",
              "      <td>0</td>\n",
              "      <td>0</td>\n",
              "      <td>0</td>\n",
              "      <td>0</td>\n",
              "      <td>0</td>\n",
              "      <td>0</td>\n",
              "      <td>0</td>\n",
              "      <td>0</td>\n",
              "      <td>0</td>\n",
              "      <td>0</td>\n",
              "      <td>0</td>\n",
              "      <td>0</td>\n",
              "      <td>0</td>\n",
              "      <td>0</td>\n",
              "      <td>0</td>\n",
              "      <td>0</td>\n",
              "      <td>0</td>\n",
              "      <td>0</td>\n",
              "      <td>0</td>\n",
              "      <td>1</td>\n",
              "      <td>0</td>\n",
              "      <td>0</td>\n",
              "    </tr>\n",
              "    <tr>\n",
              "      <th>3</th>\n",
              "      <td>53</td>\n",
              "      <td>234721</td>\n",
              "      <td>7</td>\n",
              "      <td>0</td>\n",
              "      <td>0</td>\n",
              "      <td>40</td>\n",
              "      <td>&lt;=50K</td>\n",
              "      <td>0</td>\n",
              "      <td>0</td>\n",
              "      <td>1</td>\n",
              "      <td>0</td>\n",
              "      <td>0</td>\n",
              "      <td>0</td>\n",
              "      <td>0</td>\n",
              "      <td>1</td>\n",
              "      <td>0</td>\n",
              "      <td>0</td>\n",
              "      <td>0</td>\n",
              "      <td>0</td>\n",
              "      <td>0</td>\n",
              "      <td>0</td>\n",
              "      <td>0</td>\n",
              "      <td>0</td>\n",
              "      <td>0</td>\n",
              "      <td>0</td>\n",
              "      <td>0</td>\n",
              "      <td>0</td>\n",
              "      <td>0</td>\n",
              "      <td>0</td>\n",
              "      <td>0</td>\n",
              "      <td>1</td>\n",
              "      <td>0</td>\n",
              "      <td>0</td>\n",
              "      <td>0</td>\n",
              "      <td>0</td>\n",
              "      <td>0</td>\n",
              "      <td>0</td>\n",
              "      <td>0</td>\n",
              "      <td>0</td>\n",
              "      <td>1</td>\n",
              "      <td>...</td>\n",
              "      <td>0</td>\n",
              "      <td>0</td>\n",
              "      <td>0</td>\n",
              "      <td>0</td>\n",
              "      <td>0</td>\n",
              "      <td>0</td>\n",
              "      <td>0</td>\n",
              "      <td>0</td>\n",
              "      <td>0</td>\n",
              "      <td>0</td>\n",
              "      <td>0</td>\n",
              "      <td>0</td>\n",
              "      <td>0</td>\n",
              "      <td>0</td>\n",
              "      <td>0</td>\n",
              "      <td>0</td>\n",
              "      <td>0</td>\n",
              "      <td>0</td>\n",
              "      <td>0</td>\n",
              "      <td>0</td>\n",
              "      <td>0</td>\n",
              "      <td>0</td>\n",
              "      <td>0</td>\n",
              "      <td>0</td>\n",
              "      <td>0</td>\n",
              "      <td>0</td>\n",
              "      <td>0</td>\n",
              "      <td>0</td>\n",
              "      <td>0</td>\n",
              "      <td>0</td>\n",
              "      <td>0</td>\n",
              "      <td>0</td>\n",
              "      <td>0</td>\n",
              "      <td>0</td>\n",
              "      <td>0</td>\n",
              "      <td>0</td>\n",
              "      <td>0</td>\n",
              "      <td>1</td>\n",
              "      <td>0</td>\n",
              "      <td>0</td>\n",
              "    </tr>\n",
              "    <tr>\n",
              "      <th>4</th>\n",
              "      <td>28</td>\n",
              "      <td>338409</td>\n",
              "      <td>13</td>\n",
              "      <td>0</td>\n",
              "      <td>0</td>\n",
              "      <td>40</td>\n",
              "      <td>&lt;=50K</td>\n",
              "      <td>0</td>\n",
              "      <td>0</td>\n",
              "      <td>1</td>\n",
              "      <td>0</td>\n",
              "      <td>0</td>\n",
              "      <td>0</td>\n",
              "      <td>0</td>\n",
              "      <td>0</td>\n",
              "      <td>0</td>\n",
              "      <td>0</td>\n",
              "      <td>0</td>\n",
              "      <td>0</td>\n",
              "      <td>0</td>\n",
              "      <td>0</td>\n",
              "      <td>0</td>\n",
              "      <td>1</td>\n",
              "      <td>0</td>\n",
              "      <td>0</td>\n",
              "      <td>0</td>\n",
              "      <td>0</td>\n",
              "      <td>0</td>\n",
              "      <td>0</td>\n",
              "      <td>0</td>\n",
              "      <td>1</td>\n",
              "      <td>0</td>\n",
              "      <td>0</td>\n",
              "      <td>0</td>\n",
              "      <td>0</td>\n",
              "      <td>0</td>\n",
              "      <td>0</td>\n",
              "      <td>0</td>\n",
              "      <td>0</td>\n",
              "      <td>0</td>\n",
              "      <td>...</td>\n",
              "      <td>0</td>\n",
              "      <td>0</td>\n",
              "      <td>0</td>\n",
              "      <td>1</td>\n",
              "      <td>0</td>\n",
              "      <td>0</td>\n",
              "      <td>0</td>\n",
              "      <td>0</td>\n",
              "      <td>0</td>\n",
              "      <td>0</td>\n",
              "      <td>0</td>\n",
              "      <td>0</td>\n",
              "      <td>0</td>\n",
              "      <td>0</td>\n",
              "      <td>0</td>\n",
              "      <td>0</td>\n",
              "      <td>0</td>\n",
              "      <td>0</td>\n",
              "      <td>0</td>\n",
              "      <td>0</td>\n",
              "      <td>0</td>\n",
              "      <td>0</td>\n",
              "      <td>0</td>\n",
              "      <td>0</td>\n",
              "      <td>0</td>\n",
              "      <td>0</td>\n",
              "      <td>0</td>\n",
              "      <td>0</td>\n",
              "      <td>0</td>\n",
              "      <td>0</td>\n",
              "      <td>0</td>\n",
              "      <td>0</td>\n",
              "      <td>0</td>\n",
              "      <td>0</td>\n",
              "      <td>0</td>\n",
              "      <td>0</td>\n",
              "      <td>0</td>\n",
              "      <td>0</td>\n",
              "      <td>0</td>\n",
              "      <td>0</td>\n",
              "    </tr>\n",
              "  </tbody>\n",
              "</table>\n",
              "<p>5 rows × 98 columns</p>\n",
              "</div>"
            ],
            "text/plain": [
              "   age   fnlwg  ...  native_country_ Vietnam  native_country_ Yugoslavia\n",
              "0   39   77516  ...                        0                           0\n",
              "1   50   83311  ...                        0                           0\n",
              "2   38  215646  ...                        0                           0\n",
              "3   53  234721  ...                        0                           0\n",
              "4   28  338409  ...                        0                           0\n",
              "\n",
              "[5 rows x 98 columns]"
            ]
          },
          "metadata": {
            "tags": []
          },
          "execution_count": 60
        }
      ]
    },
    {
      "cell_type": "markdown",
      "metadata": {
        "colab_type": "text",
        "id": "uMauYCpOQ6Ed"
      },
      "source": [
        "## Modelling"
      ]
    },
    {
      "cell_type": "code",
      "metadata": {
        "colab_type": "code",
        "id": "YI9LxKqTQ6Eg",
        "colab": {}
      },
      "source": [
        "# Importing modules\n",
        "from sklearn.metrics import accuracy_score\n",
        "from sklearn.metrics import classification_report,confusion_matrix\n",
        "from sklearn.linear_model import LogisticRegression\n",
        "from sklearn.tree import DecisionTreeClassifier\n",
        "from sklearn.ensemble import RandomForestClassifier\n",
        "from sklearn.svm import SVC\n",
        "\n"
      ],
      "execution_count": 0,
      "outputs": []
    },
    {
      "cell_type": "code",
      "metadata": {
        "colab_type": "code",
        "id": "iJsijqccQ6Eq",
        "colab": {}
      },
      "source": [
        "X = new_data.drop(['y'], axis=1)\n",
        "y = new_data.y"
      ],
      "execution_count": 0,
      "outputs": []
    },
    {
      "cell_type": "code",
      "metadata": {
        "colab_type": "code",
        "id": "ls1MpVcaQ6E2",
        "outputId": "ff57cdd2-747c-4fa5-9536-27e0088a724e",
        "colab": {
          "base_uri": "https://localhost:8080/",
          "height": 85
        }
      },
      "source": [
        "from sklearn.model_selection import train_test_split\n",
        "X_train, X_test, y_train, y_test = train_test_split(X, y, test_size=0.30, random_state=101)\n",
        "print (X_train.shape)\n",
        "print (y_train.shape)\n",
        "print (X_test.shape)\n",
        "print (y_test.shape)"
      ],
      "execution_count": 0,
      "outputs": [
        {
          "output_type": "stream",
          "text": [
            "(34189, 97)\n",
            "(34189,)\n",
            "(14653, 97)\n",
            "(14653,)\n"
          ],
          "name": "stdout"
        }
      ]
    },
    {
      "cell_type": "code",
      "metadata": {
        "colab_type": "code",
        "id": "wJ2pNLxPr91E",
        "colab": {}
      },
      "source": [
        "# Normalization\n",
        "from sklearn.preprocessing import StandardScaler  \n",
        "scaler = StandardScaler()  \n",
        "\n",
        "# Fitting only on training data\n",
        "scaler.fit(X_train)  \n",
        "X_train = scaler.transform(X_train)  \n",
        "\n",
        "# Applying same transformation to test data\n",
        "X_test = scaler.transform(X_test)"
      ],
      "execution_count": 0,
      "outputs": []
    },
    {
      "cell_type": "code",
      "metadata": {
        "colab_type": "code",
        "id": "IO0y5pdnsrMl",
        "colab": {}
      },
      "source": [
        "def model_eval(actual, pred):\n",
        "    \n",
        "    confusion = pd.crosstab(actual, pred, rownames=['Actual'], colnames=['Predicted'])\n",
        "    TP = confusion.loc[' >50K',' >50K']\n",
        "    TN = confusion.loc[' <=50K',' <=50K']\n",
        "    FP = confusion.loc[' <=50K',' >50K']\n",
        "    FN = confusion.loc[' >50K',' <=50K']\n",
        "\n",
        "    accuracy = ((TP+TN))/(TP+FN+FP+TN)\n",
        "    precision = (TP)/(TP+FP)\n",
        "    recall = (TP)/(TP+FN)\n",
        "    f_measure = (2*recall*precision)/(recall+precision)\n",
        "    sensitivity = TP / (TP + FN)\n",
        "    specificity = TN / (TN + FP)\n",
        "    error_rate = 1 - accuracy\n",
        "    \n",
        "    out = {}\n",
        "    out['accuracy'] =  accuracy\n",
        "    out['precision'] = precision\n",
        "    out['recall'] = recall\n",
        "    out['f_measure'] = f_measure\n",
        "    out['sensitivity'] = sensitivity\n",
        "    out['specificity'] = specificity\n",
        "    out['error_rate'] = error_rate\n",
        "    \n",
        "    return out"
      ],
      "execution_count": 0,
      "outputs": []
    },
    {
      "cell_type": "code",
      "metadata": {
        "colab_type": "code",
        "id": "C4ylQ39lQ6FF",
        "outputId": "97219c07-adb8-4cdc-90ae-0a8332e76b1f",
        "colab": {
          "base_uri": "https://localhost:8080/",
          "height": 1000
        }
      },
      "source": [
        "#1) Logistic Regression\n",
        "# Create logistic regression object\n",
        "logreg = LogisticRegression()\n",
        "# Train the model using the training sets and check score\n",
        "logreg.fit(X_train, y_train)\n",
        "#Predict Output\n",
        "log_predicted= logreg.predict(X_test)\n",
        "\n",
        "logreg_score = round(logreg.score(X_train, y_train) * 100, 2)\n",
        "logreg_score_test = round(logreg.score(X_test, y_test) * 100, 2)\n",
        "#Equation coefficient and Intercept\n",
        "print('Logistic Regression Training Score: \\n', logreg_score)\n",
        "print('Logistic Regression Test Score: \\n', logreg_score_test)\n",
        "print('Coefficient: \\n', logreg.coef_)\n",
        "print('Intercept: \\n', logreg.intercept_)\n",
        "print('Accuracy: \\n', accuracy_score(y_test,log_predicted))\n",
        "print('Confusion Matrix: \\n', confusion_matrix(y_test,log_predicted))\n",
        "print('Classification Report: \\n', classification_report(y_test,log_predicted))\n",
        "\n",
        "sns.heatmap(confusion_matrix(y_test,log_predicted),annot=True,fmt=\"d\")\n"
      ],
      "execution_count": 0,
      "outputs": [
        {
          "output_type": "stream",
          "text": [
            "Logistic Regression Training Score: \n",
            " 85.44\n",
            "Logistic Regression Test Score: \n",
            " 84.88\n",
            "Coefficient: \n",
            " [[ 2.85905715e-01  8.34869857e-02  6.10814269e-01  2.39967314e+00\n",
            "   2.74059155e-01  3.84197079e-01 -1.38830630e-01 -8.01497920e-02\n",
            "  -2.06851360e-01 -4.42231320e-02 -2.50693601e-01 -1.31063818e-01\n",
            "  -1.18890793e-02  6.28515532e-03  1.91513589e-02  3.34317154e-02\n",
            "   5.20718106e-02  2.37696236e-02  3.52607851e-02  2.92093148e-02\n",
            "   6.36264982e-02  1.97651592e-01  9.39731658e-02  1.41462737e-01\n",
            "   1.55285557e-01  6.09436964e-03  1.19508276e-01  1.64087338e-01\n",
            "   5.13633068e-02  1.07702219e+00  2.04161297e-05 -1.97743070e-01\n",
            "  -1.23285626e-02  9.60414732e-03  1.23218171e-02 -1.80590460e-02\n",
            "   2.38135234e-01 -1.58663076e-01 -1.36989571e-01 -7.83789737e-02\n",
            "  -2.43650057e-01 -1.63535039e-01  1.10277041e-01  5.83045776e-02\n",
            "   6.24070826e-02  8.89589094e-02 -1.84488435e-02  1.50075329e-01\n",
            "  -1.24096382e-01 -2.35032371e-01  6.31688133e-02  2.36375341e-01\n",
            "   8.25488541e-02  1.50805059e-02  1.57819410e-02  9.87175023e-02\n",
            "   3.31552870e-01 -4.26576055e-02 -8.67941027e-02 -1.44209836e-01\n",
            "  -4.52078023e-02 -9.81392765e-02 -4.13524692e-02 -1.06392168e-01\n",
            "  -2.25909289e-02 -1.56467229e-02 -5.79576463e-02 -3.17867496e-02\n",
            "  -3.87521913e-02 -2.50738437e-02  0.00000000e+00 -1.11405213e-01\n",
            "  -3.84591653e-02 -1.23973119e-02 -5.63859569e-02 -4.04831242e-02\n",
            "   1.49029472e-02 -2.70206928e-02 -1.98926365e-02 -4.29839265e-02\n",
            "  -3.22197534e-02 -2.80826676e-01 -1.96477403e-01 -3.57749172e-02\n",
            "  -5.04624536e-02 -5.91939888e-02 -4.52403187e-02 -2.53620844e-02\n",
            "  -5.77349852e-02 -2.90789610e-02 -1.07229889e-01 -5.04069315e-02\n",
            "  -6.06532106e-02 -5.63822058e-02 -2.62087938e-01 -1.02075905e-01\n",
            "  -1.39031457e-02]]\n",
            "Intercept: \n",
            " [-2.04195023]\n",
            "Accuracy: \n",
            " 0.8488364157510407\n",
            "Confusion Matrix: \n",
            " [[10344   756]\n",
            " [ 1459  2094]]\n",
            "Classification Report: \n",
            "               precision    recall  f1-score   support\n",
            "\n",
            "       <=50K       0.88      0.93      0.90     11100\n",
            "        >50K       0.73      0.59      0.65      3553\n",
            "\n",
            "    accuracy                           0.85     14653\n",
            "   macro avg       0.81      0.76      0.78     14653\n",
            "weighted avg       0.84      0.85      0.84     14653\n",
            "\n"
          ],
          "name": "stdout"
        },
        {
          "output_type": "execute_result",
          "data": {
            "text/plain": [
              "<matplotlib.axes._subplots.AxesSubplot at 0x7f5357f9a128>"
            ]
          },
          "metadata": {
            "tags": []
          },
          "execution_count": 79
        },
        {
          "output_type": "display_data",
          "data": {
            "image/png": "[encoded data removed]",
            "text/plain": [
              "<Figure size 432x288 with 2 Axes>"
            ]
          },
          "metadata": {
            "tags": []
          }
        }
      ]
    },
    {
      "cell_type": "code",
      "metadata": {
        "colab_type": "code",
        "id": "3IiNhVPCte7_",
        "outputId": "6cba0be5-1ba2-46d0-9f93-48c162829327",
        "colab": {
          "base_uri": "https://localhost:8080/",
          "height": 145
        }
      },
      "source": [
        "#printmd('### 3.1.1. Model Development ')\n",
        "from sklearn import tree\n",
        "# Gini \n",
        "clf_gini = tree.DecisionTreeClassifier(criterion = 'gini', min_samples_split = 0.05, min_samples_leaf = 0.001, max_features = None)\n",
        "clf_gini = clf_gini.fit(X_train, y_train)\n",
        "clf_gini_pred = clf_gini.predict(X_test)\n",
        "DTree_Gini = model_eval(y_test, clf_gini_pred)\n",
        "print('Desicion Tree using Gini Index : %.2f percent.' % (round(DTree_Gini['accuracy']*100,2)))\n",
        "\n",
        "\n",
        "# Entropy\n",
        "clf_entropy = tree.DecisionTreeClassifier(criterion = 'entropy', min_samples_split = 0.05, min_samples_leaf = 0.001)\n",
        "clf_entropy = clf_entropy.fit(X_train, y_train)\n",
        "clf_entropy_pred = clf_entropy.predict(X_test)\n",
        "DTree_Entropy = model_eval(y_test, clf_entropy_pred)\n",
        "print('Desicion Tree using Entropy : %.2f percent.' % (round(DTree_Entropy['accuracy']*100,2)))\n",
        "\n",
        "\n",
        "#printmd('### 3.1.2. Model Evaulation ')\n",
        "ovl_dtree = round(pd.DataFrame([DTree_Entropy, DTree_Gini], index = ['DTree_Entropy','DTree_Gini']),4)\n",
        "display(ovl_dtree)"
      ],
      "execution_count": 0,
      "outputs": [
        {
          "output_type": "stream",
          "text": [
            "Desicion Tree using Gini Index : 85.29 percent.\n",
            "Desicion Tree using Entropy : 85.30 percent.\n"
          ],
          "name": "stdout"
        },
        {
          "output_type": "display_data",
          "data": {
            "text/html": [
              "<div>\n",
              "<style scoped>\n",
              "    .dataframe tbody tr th:only-of-type {\n",
              "        vertical-align: middle;\n",
              "    }\n",
              "\n",
              "    .dataframe tbody tr th {\n",
              "        vertical-align: top;\n",
              "    }\n",
              "\n",
              "    .dataframe thead th {\n",
              "        text-align: right;\n",
              "    }\n",
              "</style>\n",
              "<table border=\"1\" class=\"dataframe\">\n",
              "  <thead>\n",
              "    <tr style=\"text-align: right;\">\n",
              "      <th></th>\n",
              "      <th>accuracy</th>\n",
              "      <th>precision</th>\n",
              "      <th>recall</th>\n",
              "      <th>f_measure</th>\n",
              "      <th>sensitivity</th>\n",
              "      <th>specificity</th>\n",
              "      <th>error_rate</th>\n",
              "    </tr>\n",
              "  </thead>\n",
              "  <tbody>\n",
              "    <tr>\n",
              "      <th>DTree_Entropy</th>\n",
              "      <td>0.8530</td>\n",
              "      <td>0.7594</td>\n",
              "      <td>0.5764</td>\n",
              "      <td>0.6554</td>\n",
              "      <td>0.5764</td>\n",
              "      <td>0.9415</td>\n",
              "      <td>0.1470</td>\n",
              "    </tr>\n",
              "    <tr>\n",
              "      <th>DTree_Gini</th>\n",
              "      <td>0.8529</td>\n",
              "      <td>0.7640</td>\n",
              "      <td>0.5694</td>\n",
              "      <td>0.6525</td>\n",
              "      <td>0.5694</td>\n",
              "      <td>0.9437</td>\n",
              "      <td>0.1471</td>\n",
              "    </tr>\n",
              "  </tbody>\n",
              "</table>\n",
              "</div>"
            ],
            "text/plain": [
              "               accuracy  precision  ...  specificity  error_rate\n",
              "DTree_Entropy    0.8530     0.7594  ...       0.9415      0.1470\n",
              "DTree_Gini       0.8529     0.7640  ...       0.9437      0.1471\n",
              "\n",
              "[2 rows x 7 columns]"
            ]
          },
          "metadata": {
            "tags": []
          }
        }
      ]
    },
    {
      "cell_type": "code",
      "metadata": {
        "colab_type": "code",
        "id": "j8gOJmifwlPF",
        "outputId": "ed660d50-bcdd-46df-a1aa-7ee486a46c67",
        "colab": {
          "base_uri": "https://localhost:8080/",
          "height": 97
        }
      },
      "source": [
        "log_reg = LogisticRegression(penalty = 'l1', dual = False, tol = 1e-4, fit_intercept = True, \n",
        "                            solver = 'liblinear')\n",
        "log_reg.fit(X_train, y_train)\n",
        "log_reg_pred = log_reg.predict(X_test)\n",
        "logistic_reg = model_eval(y_test, log_reg_pred)\n",
        "print('Logistic Regression : %.2f percent.' % (round(logistic_reg['accuracy']*100,3)))\n",
        "\n",
        "#printmd('### 3.5.2. Model Evaulation ')\n",
        "ovl_logreg = round(pd.DataFrame([logistic_reg], index = ['logistic_reg']),4)\n",
        "display(ovl_logreg)"
      ],
      "execution_count": 0,
      "outputs": [
        {
          "output_type": "stream",
          "text": [
            "Logistic Regression : 84.90 percent.\n"
          ],
          "name": "stdout"
        },
        {
          "output_type": "display_data",
          "data": {
            "text/html": [
              "<div>\n",
              "<style scoped>\n",
              "    .dataframe tbody tr th:only-of-type {\n",
              "        vertical-align: middle;\n",
              "    }\n",
              "\n",
              "    .dataframe tbody tr th {\n",
              "        vertical-align: top;\n",
              "    }\n",
              "\n",
              "    .dataframe thead th {\n",
              "        text-align: right;\n",
              "    }\n",
              "</style>\n",
              "<table border=\"1\" class=\"dataframe\">\n",
              "  <thead>\n",
              "    <tr style=\"text-align: right;\">\n",
              "      <th></th>\n",
              "      <th>accuracy</th>\n",
              "      <th>precision</th>\n",
              "      <th>recall</th>\n",
              "      <th>f_measure</th>\n",
              "      <th>sensitivity</th>\n",
              "      <th>specificity</th>\n",
              "      <th>error_rate</th>\n",
              "    </tr>\n",
              "  </thead>\n",
              "  <tbody>\n",
              "    <tr>\n",
              "      <th>logistic_reg</th>\n",
              "      <td>0.849</td>\n",
              "      <td>0.7352</td>\n",
              "      <td>0.5899</td>\n",
              "      <td>0.6546</td>\n",
              "      <td>0.5899</td>\n",
              "      <td>0.932</td>\n",
              "      <td>0.151</td>\n",
              "    </tr>\n",
              "  </tbody>\n",
              "</table>\n",
              "</div>"
            ],
            "text/plain": [
              "              accuracy  precision  recall  ...  sensitivity  specificity  error_rate\n",
              "logistic_reg     0.849     0.7352  0.5899  ...       0.5899        0.932       0.151\n",
              "\n",
              "[1 rows x 7 columns]"
            ]
          },
          "metadata": {
            "tags": []
          }
        }
      ]
    },
    {
      "cell_type": "code",
      "metadata": {
        "colab_type": "code",
        "id": "Y3SIxLzJx74Y",
        "outputId": "7b79a1fb-b819-4d99-83ad-9df2256b3c17",
        "colab": {
          "base_uri": "https://localhost:8080/",
          "height": 145
        }
      },
      "source": [
        "# Gini\n",
        "r_forest_gini = RandomForestClassifier(n_estimators=100, criterion = 'gini', max_features = None,  min_samples_split = 0.05, min_samples_leaf = 0.001)\n",
        "r_forest_gini.fit(X_train, y_train)\n",
        "r_forest_gini_pred = r_forest_gini.predict(X_test)\n",
        "rforest_gini = model_eval(y_test, r_forest_gini_pred)\n",
        "print('Random Forest using Gini Index : %.2f percent.' % (round(rforest_gini['accuracy']*100,2)))\n",
        "\n",
        "# Entropy\n",
        "r_forest_entropy = RandomForestClassifier(n_estimators=100, criterion = 'entropy', max_features = None,  min_samples_split = 0.05, min_samples_leaf = 0.001)\n",
        "r_forest_entropy.fit(X_train, y_train)\n",
        "r_forest_entropy_pred = r_forest_entropy.predict(X_test)\n",
        "rforest_entropy = model_eval(y_test, r_forest_entropy_pred)\n",
        "print('Random Forest using Entropy : %.2f percent.' % (round(rforest_entropy['accuracy']*100,2)))\n",
        "\n",
        "#printmd('### 3.4.1.2. Model Evaulation ')\n",
        "ovl_rf = round(pd.DataFrame([rforest_gini, rforest_entropy], index = ['rforest_gini','rforest_entropy']),4)\n",
        "display(ovl_rf)"
      ],
      "execution_count": 0,
      "outputs": [
        {
          "output_type": "stream",
          "text": [
            "Random Forest using Gini Index : 85.34 percent.\n",
            "Random Forest using Entropy : 85.31 percent.\n"
          ],
          "name": "stdout"
        },
        {
          "output_type": "display_data",
          "data": {
            "text/html": [
              "<div>\n",
              "<style scoped>\n",
              "    .dataframe tbody tr th:only-of-type {\n",
              "        vertical-align: middle;\n",
              "    }\n",
              "\n",
              "    .dataframe tbody tr th {\n",
              "        vertical-align: top;\n",
              "    }\n",
              "\n",
              "    .dataframe thead th {\n",
              "        text-align: right;\n",
              "    }\n",
              "</style>\n",
              "<table border=\"1\" class=\"dataframe\">\n",
              "  <thead>\n",
              "    <tr style=\"text-align: right;\">\n",
              "      <th></th>\n",
              "      <th>accuracy</th>\n",
              "      <th>precision</th>\n",
              "      <th>recall</th>\n",
              "      <th>f_measure</th>\n",
              "      <th>sensitivity</th>\n",
              "      <th>specificity</th>\n",
              "      <th>error_rate</th>\n",
              "    </tr>\n",
              "  </thead>\n",
              "  <tbody>\n",
              "    <tr>\n",
              "      <th>rforest_gini</th>\n",
              "      <td>0.8534</td>\n",
              "      <td>0.7750</td>\n",
              "      <td>0.5573</td>\n",
              "      <td>0.6483</td>\n",
              "      <td>0.5573</td>\n",
              "      <td>0.9482</td>\n",
              "      <td>0.1466</td>\n",
              "    </tr>\n",
              "    <tr>\n",
              "      <th>rforest_entropy</th>\n",
              "      <td>0.8531</td>\n",
              "      <td>0.7761</td>\n",
              "      <td>0.5542</td>\n",
              "      <td>0.6466</td>\n",
              "      <td>0.5542</td>\n",
              "      <td>0.9488</td>\n",
              "      <td>0.1469</td>\n",
              "    </tr>\n",
              "  </tbody>\n",
              "</table>\n",
              "</div>"
            ],
            "text/plain": [
              "                 accuracy  precision  ...  specificity  error_rate\n",
              "rforest_gini       0.8534     0.7750  ...       0.9482      0.1466\n",
              "rforest_entropy    0.8531     0.7761  ...       0.9488      0.1469\n",
              "\n",
              "[2 rows x 7 columns]"
            ]
          },
          "metadata": {
            "tags": []
          }
        }
      ]
    },
    {
      "cell_type": "code",
      "metadata": {
        "colab_type": "code",
        "id": "8p6btxEo5tOc",
        "outputId": "f879699a-a8b5-4b07-e5b1-1dcb16c804e5",
        "colab": {
          "base_uri": "https://localhost:8080/",
          "height": 408
        }
      },
      "source": [
        "from sklearn import svm\n",
        "# rbf kernal\n",
        "svm_clf_rbf = svm.SVC(kernel = 'rbf', C = 1, tol = 1e-3)\n",
        "svm_clf_rbf.fit(X_train, y_train)\n",
        "svm_clf_rbf_pred = svm_clf_rbf.predict(X_test)\n",
        "SVM_rbf = model_eval(y_test, svm_clf_rbf_pred)\n",
        "print('SVM using rbf kernel : %.2f percent.' % (round(SVM_rbf['accuracy']*100,2)))\n",
        "\n",
        "# Linear kernel\n",
        "svm_clf_linear = svm.SVC(kernel = 'linear')\n",
        "svm_clf_linear.fit(X_train, y_train)\n",
        "svm_clf_linear_pred = svm_clf_linear.predict(X_test)\n",
        "SVM_linear = model_eval(y_test, svm_clf_linear_pred)\n",
        "print('SVM using linear kernel : %.2f percent.' % (round(SVM_linear['accuracy']*100,2)))\n",
        "\n",
        "\n",
        "# Poly kernal\n",
        "svm_clf_poly = svm.SVC(kernel = 'poly')\n",
        "svm_clf_poly.fit(X_train, y_train)\n",
        "svm_clf_poly_pred = svm_clf_poly.predict(X_test)\n",
        "SVM_poly = model_eval(y_test, svm_clf_poly_pred)\n",
        "print('SVM using poly kernel : %.2f percent.' % (round(SVM_poly['accuracy']*100,2)))\n",
        "\n",
        "\n",
        "svm_clf_sigmoid = svm.SVC(kernel = 'sigmoid')\n",
        "svm_clf_sigmoid.fit(X_train, y_train)\n",
        "svm_clf_sigmoid_pred = svm_clf_sigmoid.predict(X_test)\n",
        "SVM_sigmoid = model_eval(y_test, svm_clf_sigmoid_pred)\n",
        "print('SVM using sigmoid kernel : %.2f percent.' % (round(SVM_sigmoid['accuracy']*100,2)))\n",
        "\n",
        "\n",
        "\n",
        "#printmd('### 3.3.2. Model Evaulation ')\n",
        "ovl_svm = round(pd.DataFrame([SVM_rbf, SVM_linear, SVM_poly, SVM_sigmoid], index = ['SVM_rbf','SVM_linear', 'SVM_poly', 'SVM_sigmoid']),4)\n",
        "display(ovl_svm)\n"
      ],
      "execution_count": 0,
      "outputs": [
        {
          "output_type": "stream",
          "text": [
            "SVM using rbf kernel : 84.63 percent.\n",
            "SVM using linear kernel : 84.11 percent.\n"
          ],
          "name": "stdout"
        },
        {
          "output_type": "error",
          "ename": "KeyboardInterrupt",
          "evalue": "ignored",
          "traceback": [
            "\u001b[0;31m---------------------------------------------------------------------------\u001b[0m",
            "\u001b[0;31mKeyboardInterrupt\u001b[0m                         Traceback (most recent call last)",
            "\u001b[0;32m<ipython-input-91-6dde4e43880d>\u001b[0m in \u001b[0;36m<module>\u001b[0;34m()\u001b[0m\n\u001b[1;32m     17\u001b[0m \u001b[0;31m# Poly kernal\u001b[0m\u001b[0;34m\u001b[0m\u001b[0;34m\u001b[0m\u001b[0;34m\u001b[0m\u001b[0m\n\u001b[1;32m     18\u001b[0m \u001b[0msvm_clf_poly\u001b[0m \u001b[0;34m=\u001b[0m \u001b[0msvm\u001b[0m\u001b[0;34m.\u001b[0m\u001b[0mSVC\u001b[0m\u001b[0;34m(\u001b[0m\u001b[0mkernel\u001b[0m \u001b[0;34m=\u001b[0m \u001b[0;34m'poly'\u001b[0m\u001b[0;34m)\u001b[0m\u001b[0;34m\u001b[0m\u001b[0;34m\u001b[0m\u001b[0m\n\u001b[0;32m---> 19\u001b[0;31m \u001b[0msvm_clf_poly\u001b[0m\u001b[0;34m.\u001b[0m\u001b[0mfit\u001b[0m\u001b[0;34m(\u001b[0m\u001b[0mX_train\u001b[0m\u001b[0;34m,\u001b[0m \u001b[0my_train\u001b[0m\u001b[0;34m)\u001b[0m\u001b[0;34m\u001b[0m\u001b[0;34m\u001b[0m\u001b[0m\n\u001b[0m\u001b[1;32m     20\u001b[0m \u001b[0msvm_clf_poly_pred\u001b[0m \u001b[0;34m=\u001b[0m \u001b[0msvm_clf_poly\u001b[0m\u001b[0;34m.\u001b[0m\u001b[0mpredict\u001b[0m\u001b[0;34m(\u001b[0m\u001b[0mX_test\u001b[0m\u001b[0;34m)\u001b[0m\u001b[0;34m\u001b[0m\u001b[0;34m\u001b[0m\u001b[0m\n\u001b[1;32m     21\u001b[0m \u001b[0mSVM_poly\u001b[0m \u001b[0;34m=\u001b[0m \u001b[0mmodel_eval\u001b[0m\u001b[0;34m(\u001b[0m\u001b[0my_test\u001b[0m\u001b[0;34m,\u001b[0m \u001b[0msvm_clf_poly_pred\u001b[0m\u001b[0;34m)\u001b[0m\u001b[0;34m\u001b[0m\u001b[0;34m\u001b[0m\u001b[0m\n",
            "\u001b[0;32m/usr/local/lib/python3.6/dist-packages/sklearn/svm/base.py\u001b[0m in \u001b[0;36mfit\u001b[0;34m(self, X, y, sample_weight)\u001b[0m\n\u001b[1;32m    207\u001b[0m \u001b[0;34m\u001b[0m\u001b[0m\n\u001b[1;32m    208\u001b[0m         \u001b[0mseed\u001b[0m \u001b[0;34m=\u001b[0m \u001b[0mrnd\u001b[0m\u001b[0;34m.\u001b[0m\u001b[0mrandint\u001b[0m\u001b[0;34m(\u001b[0m\u001b[0mnp\u001b[0m\u001b[0;34m.\u001b[0m\u001b[0miinfo\u001b[0m\u001b[0;34m(\u001b[0m\u001b[0;34m'i'\u001b[0m\u001b[0;34m)\u001b[0m\u001b[0;34m.\u001b[0m\u001b[0mmax\u001b[0m\u001b[0;34m)\u001b[0m\u001b[0;34m\u001b[0m\u001b[0;34m\u001b[0m\u001b[0m\n\u001b[0;32m--> 209\u001b[0;31m         \u001b[0mfit\u001b[0m\u001b[0;34m(\u001b[0m\u001b[0mX\u001b[0m\u001b[0;34m,\u001b[0m \u001b[0my\u001b[0m\u001b[0;34m,\u001b[0m \u001b[0msample_weight\u001b[0m\u001b[0;34m,\u001b[0m \u001b[0msolver_type\u001b[0m\u001b[0;34m,\u001b[0m \u001b[0mkernel\u001b[0m\u001b[0;34m,\u001b[0m \u001b[0mrandom_seed\u001b[0m\u001b[0;34m=\u001b[0m\u001b[0mseed\u001b[0m\u001b[0;34m)\u001b[0m\u001b[0;34m\u001b[0m\u001b[0;34m\u001b[0m\u001b[0m\n\u001b[0m\u001b[1;32m    210\u001b[0m         \u001b[0;31m# see comment on the other call to np.iinfo in this file\u001b[0m\u001b[0;34m\u001b[0m\u001b[0;34m\u001b[0m\u001b[0;34m\u001b[0m\u001b[0m\n\u001b[1;32m    211\u001b[0m \u001b[0;34m\u001b[0m\u001b[0m\n",
            "\u001b[0;32m/usr/local/lib/python3.6/dist-packages/sklearn/svm/base.py\u001b[0m in \u001b[0;36m_dense_fit\u001b[0;34m(self, X, y, sample_weight, solver_type, kernel, random_seed)\u001b[0m\n\u001b[1;32m    266\u001b[0m                 \u001b[0mcache_size\u001b[0m\u001b[0;34m=\u001b[0m\u001b[0mself\u001b[0m\u001b[0;34m.\u001b[0m\u001b[0mcache_size\u001b[0m\u001b[0;34m,\u001b[0m \u001b[0mcoef0\u001b[0m\u001b[0;34m=\u001b[0m\u001b[0mself\u001b[0m\u001b[0;34m.\u001b[0m\u001b[0mcoef0\u001b[0m\u001b[0;34m,\u001b[0m\u001b[0;34m\u001b[0m\u001b[0;34m\u001b[0m\u001b[0m\n\u001b[1;32m    267\u001b[0m                 \u001b[0mgamma\u001b[0m\u001b[0;34m=\u001b[0m\u001b[0mself\u001b[0m\u001b[0;34m.\u001b[0m\u001b[0m_gamma\u001b[0m\u001b[0;34m,\u001b[0m \u001b[0mepsilon\u001b[0m\u001b[0;34m=\u001b[0m\u001b[0mself\u001b[0m\u001b[0;34m.\u001b[0m\u001b[0mepsilon\u001b[0m\u001b[0;34m,\u001b[0m\u001b[0;34m\u001b[0m\u001b[0;34m\u001b[0m\u001b[0m\n\u001b[0;32m--> 268\u001b[0;31m                 max_iter=self.max_iter, random_seed=random_seed)\n\u001b[0m\u001b[1;32m    269\u001b[0m \u001b[0;34m\u001b[0m\u001b[0m\n\u001b[1;32m    270\u001b[0m         \u001b[0mself\u001b[0m\u001b[0;34m.\u001b[0m\u001b[0m_warn_from_fit_status\u001b[0m\u001b[0;34m(\u001b[0m\u001b[0;34m)\u001b[0m\u001b[0;34m\u001b[0m\u001b[0;34m\u001b[0m\u001b[0m\n",
            "\u001b[0;31mKeyboardInterrupt\u001b[0m: "
          ]
        }
      ]
    },
    {
      "cell_type": "markdown",
      "metadata": {
        "colab_type": "text",
        "id": "qeD0_ostQ6FN"
      },
      "source": [
        "from sklearn.naive_bayes import GaussianNB\n",
        "# Gaussian Naive Bayes\n",
        "\n",
        "gaussian = GaussianNB()\n",
        "gaussian.fit(X_train, y_train)\n",
        "#Predict Output\n",
        "gauss_predicted = gaussian.predict(X_test)\n",
        "\n",
        "gauss_score = round(gaussian.score(X_train, y_train) * 100, 2)\n",
        "gauss_score_test = round(gaussian.score(X_test, y_test) * 100, 2)\n",
        "print('Gaussian Score: \\n', gauss_score)\n",
        "print('Gaussian Test Score: \\n', gauss_score_test)\n",
        "print('Accuracy: \\n', accuracy_score(y_test, gauss_predicted))\n",
        "print(confusion_matrix(y_test,gauss_predicted))\n",
        "print(classification_report(y_test,gauss_predicted))\n",
        "\n",
        "sns.heatmap(confusion_matrix(y_test,gauss_predicted),annot=True,fmt=\"d\")"
      ]
    },
    {
      "cell_type": "code",
      "metadata": {
        "colab_type": "code",
        "id": "mfF21qOzQ6FP",
        "outputId": "6376d337-fb29-4ba2-f2d7-eea566eff45d",
        "colab": {
          "base_uri": "https://localhost:8080/",
          "height": 595
        }
      },
      "source": [
        "# decision tree\n",
        "\n",
        "tree = DecisionTreeClassifier()\n",
        "tree.fit(X_train, y_train)\n",
        "#Predict Output\n",
        "dt_predicted = tree.predict(X_test)\n",
        "\n",
        "tree_score = round(tree.score(X_train, y_train) * 100, 2)\n",
        "tree_score_test = round(tree.score(X_test, y_test) * 100, 2)\n",
        "print('Decision Tree Score: \\n', tree_score)\n",
        "print('Decision Tree Test Score: \\n', tree_score_test)\n",
        "print('Accuracy: \\n', accuracy_score(y_test,dt_predicted))\n",
        "print(confusion_matrix(y_test,dt_predicted))\n",
        "print(classification_report(y_test,dt_predicted))\n",
        "\n",
        "sns.heatmap(confusion_matrix(y_test,dt_predicted),annot=True,fmt=\"d\")"
      ],
      "execution_count": 0,
      "outputs": [
        {
          "output_type": "stream",
          "text": [
            "Decision Tree Score: \n",
            " 99.99\n",
            "Decision Tree Test Score: \n",
            " 81.33\n",
            "Accuracy: \n",
            " 0.8133488022930458\n",
            "[[9719 1381]\n",
            " [1354 2199]]\n",
            "              precision    recall  f1-score   support\n",
            "\n",
            "       <=50K       0.88      0.88      0.88     11100\n",
            "        >50K       0.61      0.62      0.62      3553\n",
            "\n",
            "    accuracy                           0.81     14653\n",
            "   macro avg       0.75      0.75      0.75     14653\n",
            "weighted avg       0.81      0.81      0.81     14653\n",
            "\n"
          ],
          "name": "stdout"
        },
        {
          "output_type": "execute_result",
          "data": {
            "text/plain": [
              "<matplotlib.axes._subplots.AxesSubplot at 0x7f53584575c0>"
            ]
          },
          "metadata": {
            "tags": []
          },
          "execution_count": 65
        },
        {
          "output_type": "display_data",
          "data": {
            "image/png": "[encoded data removed]",
            "text/plain": [
              "<Figure size 432x288 with 2 Axes>"
            ]
          },
          "metadata": {
            "tags": []
          }
        }
      ]
    },
    {
      "cell_type": "code",
      "metadata": {
        "colab_type": "code",
        "id": "Wnvwt-XKQ6FY",
        "outputId": "98d5e97a-f913-45b4-9a23-5829335b0479",
        "colab": {
          "base_uri": "https://localhost:8080/",
          "height": 595
        }
      },
      "source": [
        "# Random Forest\n",
        "\n",
        "random_forest = RandomForestClassifier(n_estimators=100)\n",
        "random_forest.fit(X_train, y_train)\n",
        "#Predict Output\n",
        "rf_predicted = random_forest.predict(X_test)\n",
        "\n",
        "random_forest_score = round(random_forest.score(X_train, y_train) * 100, 2)\n",
        "random_forest_score_test = round(random_forest.score(X_test, y_test) * 100, 2)\n",
        "print('Random Forest Score: \\n', random_forest_score)\n",
        "print('Random Forest Test Score: \\n', random_forest_score_test)\n",
        "print('Accuracy: \\n', accuracy_score(y_test,rf_predicted))\n",
        "print(confusion_matrix(y_test,rf_predicted))\n",
        "print(classification_report(y_test,rf_predicted))\n",
        "\n",
        "sns.heatmap(confusion_matrix(y_test,rf_predicted),annot=True,fmt=\"d\")"
      ],
      "execution_count": 0,
      "outputs": [
        {
          "output_type": "stream",
          "text": [
            "Random Forest Score: \n",
            " 99.98\n",
            "Random Forest Test Score: \n",
            " 85.28\n",
            "Accuracy: \n",
            " 0.8527946495598171\n",
            "[[10286   814]\n",
            " [ 1343  2210]]\n",
            "              precision    recall  f1-score   support\n",
            "\n",
            "       <=50K       0.88      0.93      0.91     11100\n",
            "        >50K       0.73      0.62      0.67      3553\n",
            "\n",
            "    accuracy                           0.85     14653\n",
            "   macro avg       0.81      0.77      0.79     14653\n",
            "weighted avg       0.85      0.85      0.85     14653\n",
            "\n"
          ],
          "name": "stdout"
        },
        {
          "output_type": "execute_result",
          "data": {
            "text/plain": [
              "<matplotlib.axes._subplots.AxesSubplot at 0x7f5358396b70>"
            ]
          },
          "metadata": {
            "tags": []
          },
          "execution_count": 66
        },
        {
          "output_type": "display_data",
          "data": {
            "image/png": "[encoded data removed]",
            "text/plain": [
              "<Figure size 432x288 with 2 Axes>"
            ]
          },
          "metadata": {
            "tags": []
          }
        }
      ]
    },
    {
      "cell_type": "code",
      "metadata": {
        "colab_type": "code",
        "id": "s8nNAnlaQ6Fm",
        "colab": {}
      },
      "source": [
        ""
      ],
      "execution_count": 0,
      "outputs": []
    },
    {
      "cell_type": "markdown",
      "metadata": {
        "colab_type": "text",
        "id": "0bnmSZdZw8Ut"
      },
      "source": [
        "**Clustering**"
      ]
    },
    {
      "cell_type": "code",
      "metadata": {
        "colab_type": "code",
        "id": "OQ48zFczxBxL",
        "colab": {}
      },
      "source": [
        "import pandas as pd\n",
        "from scipy import stats\n",
        "from sklearn.cluster import KMeans\n",
        "import matplotlib.pyplot as plt\n",
        "import seaborn as sns\n",
        "from sklearn import preprocessing"
      ],
      "execution_count": 0,
      "outputs": []
    },
    {
      "cell_type": "code",
      "metadata": {
        "colab_type": "code",
        "id": "bwrsq_7axOI5",
        "colab": {}
      },
      "source": [
        "#Make a copy of DF\n",
        "df_tr = new_data\n",
        "xd= df_tr.drop(['y'], axis=1)\n",
        "target=df_tr.y"
      ],
      "execution_count": 0,
      "outputs": []
    },
    {
      "cell_type": "code",
      "metadata": {
        "colab_type": "code",
        "id": "Mi0U_skD4ghG",
        "colab": {}
      },
      "source": [
        "df_tr_std = stats.zscore(xd)\n"
      ],
      "execution_count": 0,
      "outputs": []
    },
    {
      "cell_type": "code",
      "metadata": {
        "colab_type": "code",
        "id": "QNOoyvp_-Fa1",
        "colab": {}
      },
      "source": [
        "kmeans = KMeans(n_clusters=2) # You want cluster the passenger records into 2: Survived or Not survived\n",
        "cluster=kmeans.fit(xd)\n",
        "\n"
      ],
      "execution_count": 0,
      "outputs": []
    },
    {
      "cell_type": "code",
      "metadata": {
        "colab_type": "code",
        "id": "pnyEvfrhGc4K",
        "outputId": "71e633d8-7231-491d-8d10-6f3b522f75d0",
        "colab": {
          "base_uri": "https://localhost:8080/",
          "height": 34
        }
      },
      "source": [
        "cluster.inertia_"
      ],
      "execution_count": 0,
      "outputs": [
        {
          "output_type": "execute_result",
          "data": {
            "text/plain": [
              "226698055515203.5"
            ]
          },
          "metadata": {
            "tags": []
          },
          "execution_count": 71
        }
      ]
    },
    {
      "cell_type": "code",
      "metadata": {
        "colab_type": "code",
        "id": "J85e5YyoKbUg",
        "outputId": "3cf8f0ee-2832-4fb5-fa6b-d9a4710d2a8a",
        "colab": {
          "base_uri": "https://localhost:8080/",
          "height": 451
        }
      },
      "source": [
        "# fitting multiple k-means algorithms and storing the values in an empty list\n",
        "SSE = []\n",
        "for cluster in range(1,20):\n",
        "    kmeans = KMeans(n_jobs = -1, n_clusters = cluster, init='k-means++')\n",
        "    kmeans.fit(xd)\n",
        "    SSE.append(kmeans.inertia_)\n",
        "\n",
        "# converting the results into a dataframe and plotting them\n",
        "frame = pd.DataFrame({'Cluster':range(1,20), 'SSE':SSE})\n",
        "plt.figure(figsize=(12,6))\n",
        "plt.plot(frame['Cluster'], frame['SSE'], marker='o')\n",
        "plt.xlabel('Number of clusters')\n",
        "plt.ylabel('Inertia')"
      ],
      "execution_count": 0,
      "outputs": [
        {
          "output_type": "execute_result",
          "data": {
            "text/plain": [
              "Text(0, 0.5, 'Inertia')"
            ]
          },
          "metadata": {
            "tags": []
          },
          "execution_count": 72
        },
        {
          "output_type": "display_data",
          "data": {
            "image/png": "[encoded data removed]",
            "text/plain": [
              "<Figure size 864x432 with 1 Axes>"
            ]
          },
          "metadata": {
            "tags": []
          }
        }
      ]
    },
    {
      "cell_type": "code",
      "metadata": {
        "colab_type": "code",
        "id": "bsl03yQmMBCX",
        "colab": {}
      },
      "source": [
        "# k means using 5 clusters and k-means++ initialization\n",
        "kmeans = KMeans(n_jobs = -1, n_clusters = 5, init='k-means++')\n",
        "kmeans.fit(xd)\n",
        "pred = kmeans.predict(xd)"
      ],
      "execution_count": 0,
      "outputs": []
    },
    {
      "cell_type": "code",
      "metadata": {
        "colab_type": "code",
        "id": "hzm4j1pgMQsi",
        "outputId": "c37566b6-b816-4962-c2f6-6a67e4e399d8",
        "colab": {
          "base_uri": "https://localhost:8080/",
          "height": 119
        }
      },
      "source": [
        "frame = pd.DataFrame(xd)\n",
        "frame['cluster'] = pred\n",
        "frame['cluster'].value_counts()"
      ],
      "execution_count": 0,
      "outputs": [
        {
          "output_type": "execute_result",
          "data": {
            "text/plain": [
              "3    19080\n",
              "2    14164\n",
              "0     9801\n",
              "1     5190\n",
              "4      607\n",
              "Name: cluster, dtype: int64"
            ]
          },
          "metadata": {
            "tags": []
          },
          "execution_count": 74
        }
      ]
    },
    {
      "cell_type": "markdown",
      "metadata": {
        "colab_type": "text",
        "id": "ZwD7yptL9qKC"
      },
      "source": [
        "**K Means Clustering with 2 dimensions**"
      ]
    },
    {
      "cell_type": "code",
      "metadata": {
        "colab_type": "code",
        "id": "6762cJquJz0h",
        "outputId": "71fde677-c6f8-4647-eaa4-4eb16f3c09f5",
        "colab": {
          "base_uri": "https://localhost:8080/",
          "height": 782
        }
      },
      "source": [
        "X.columns"
      ],
      "execution_count": 0,
      "outputs": [
        {
          "output_type": "execute_result",
          "data": {
            "text/plain": [
              "Index(['age', 'fnlwg', 'education_num', 'capital_gain', 'capital_loss',\n",
              "       'hours_per_week', 'workclass_ Local-gov', 'workclass_ Never-worked',\n",
              "       'workclass_ Private', 'workclass_ Self-emp-inc',\n",
              "       'workclass_ Self-emp-not-inc', 'workclass_ State-gov',\n",
              "       'workclass_ Without-pay', 'education_ 11th', 'education_ 12th',\n",
              "       'education_ 1st-4th', 'education_ 5th-6th', 'education_ 7th-8th',\n",
              "       'education_ 9th', 'education_ Assoc-acdm', 'education_ Assoc-voc',\n",
              "       'education_ Bachelors', 'education_ Doctorate', 'education_ HS-grad',\n",
              "       'education_ Masters', 'education_ Preschool', 'education_ Prof-school',\n",
              "       'education_ Some-college', 'marital_status_ Married-AF-spouse',\n",
              "       'marital_status_ Married-civ-spouse',\n",
              "       'marital_status_ Married-spouse-absent',\n",
              "       'marital_status_ Never-married', 'marital_status_ Separated',\n",
              "       'marital_status_ Widowed', 'occupation_ Armed-Forces',\n",
              "       'occupation_ Craft-repair', 'occupation_ Exec-managerial',\n",
              "       'occupation_ Farming-fishing', 'occupation_ Handlers-cleaners',\n",
              "       'occupation_ Machine-op-inspct', 'occupation_ Other-service',\n",
              "       'occupation_ Priv-house-serv', 'occupation_ Prof-specialty',\n",
              "       'occupation_ Protective-serv', 'occupation_ Sales',\n",
              "       'occupation_ Tech-support', 'occupation_ Transport-moving',\n",
              "       'relationship_ Not-in-family', 'relationship_ Other-relative',\n",
              "       'relationship_ Own-child', 'relationship_ Unmarried',\n",
              "       'relationship_ Wife', 'race_ Asian-Pac-Islander', 'race_ Black',\n",
              "       'race_ Other', 'race_ White', 'sex_ Male', 'native_country_ Canada',\n",
              "       'native_country_ China', 'native_country_ Columbia',\n",
              "       'native_country_ Cuba', 'native_country_ Dominican-Republic',\n",
              "       'native_country_ Ecuador', 'native_country_ El-Salvador',\n",
              "       'native_country_ England', 'native_country_ France',\n",
              "       'native_country_ Germany', 'native_country_ Greece',\n",
              "       'native_country_ Guatemala', 'native_country_ Haiti',\n",
              "       'native_country_ Holand-Netherlands', 'native_country_ Honduras',\n",
              "       'native_country_ Hong', 'native_country_ Hungary',\n",
              "       'native_country_ India', 'native_country_ Iran',\n",
              "       'native_country_ Ireland', 'native_country_ Italy',\n",
              "       'native_country_ Jamaica', 'native_country_ Japan',\n",
              "       'native_country_ Laos', 'native_country_ Mexico',\n",
              "       'native_country_ Nicaragua',\n",
              "       'native_country_ Outlying-US(Guam-USVI-etc)', 'native_country_ Peru',\n",
              "       'native_country_ Philippines', 'native_country_ Poland',\n",
              "       'native_country_ Portugal', 'native_country_ Puerto-Rico',\n",
              "       'native_country_ Scotland', 'native_country_ South',\n",
              "       'native_country_ Taiwan', 'native_country_ Thailand',\n",
              "       'native_country_ Trinadad&Tobago', 'native_country_ United-States',\n",
              "       'native_country_ Vietnam', 'native_country_ Yugoslavia', 'cluster'],\n",
              "      dtype='object')"
            ]
          },
          "metadata": {
            "tags": []
          },
          "execution_count": 109
        }
      ]
    },
    {
      "cell_type": "code",
      "metadata": {
        "colab_type": "code",
        "id": "JwTPSYQ0JjmV",
        "colab": {}
      },
      "source": [
        "X1=X[['age','capital_gain']]"
      ],
      "execution_count": 0,
      "outputs": []
    },
    {
      "cell_type": "code",
      "metadata": {
        "colab_type": "code",
        "id": "9OdtbpHxAui_",
        "colab": {}
      },
      "source": [
        "#standardize the data to normal distribution\n",
        "from sklearn import preprocessing\n",
        "dataset1_standardized = preprocessing.scale(X1)\n",
        "dataset1_standardized = pd.DataFrame(dataset1_standardized)"
      ],
      "execution_count": 0,
      "outputs": []
    },
    {
      "cell_type": "code",
      "metadata": {
        "colab_type": "code",
        "id": "tqNSta_TFyev",
        "outputId": "e7f1d31d-05fd-4630-970e-1b589bc99372",
        "colab": {
          "base_uri": "https://localhost:8080/",
          "height": 558
        }
      },
      "source": [
        "# find the appropriate cluster number\n",
        "plt.figure(figsize=(10, 8))\n",
        "from sklearn.cluster import KMeans\n",
        "wcss = []\n",
        "for i in range(1, 11):\n",
        "    kmeans = KMeans(n_clusters = i, init = 'k-means++', random_state = 42)\n",
        "    kmeans.fit(dataset1_standardized)\n",
        "    wcss.append(kmeans.inertia_)\n",
        "plt.plot(range(1, 11), wcss)\n",
        "plt.title('The Elbow Method')\n",
        "plt.xlabel('Number of clusters')\n",
        "plt.ylabel('WCSS')\n",
        "plt.show()"
      ],
      "execution_count": 0,
      "outputs": [
        {
          "output_type": "display_data",
          "data": {
            "image/png": "[encoded data removed]",
            "text/plain": [
              "<Figure size 720x576 with 1 Axes>"
            ]
          },
          "metadata": {
            "tags": []
          }
        }
      ]
    },
    {
      "cell_type": "code",
      "metadata": {
        "colab_type": "code",
        "id": "6Xl0i2gGGJII",
        "outputId": "074a5129-fafe-4b65-bafd-b09b9fff5c24",
        "colab": {
          "base_uri": "https://localhost:8080/",
          "height": 235
        }
      },
      "source": [
        "# Fitting K-Means to the dataset\n",
        "kmeans = KMeans(n_clusters = 5, init = 'k-means++', random_state = 42)\n",
        "y_kmeans = kmeans.fit_predict(dataset1_standardized)\n",
        "#beginning of  the cluster numbering with 1 instead of 0\n",
        "y_kmeans1=y_kmeans\n",
        "y_kmeans1=y_kmeans+1\n",
        "# New Dataframe called cluster\n",
        "cluster = pd.DataFrame(y_kmeans1)\n",
        "# Adding cluster to the Dataset1\n",
        "X1['cluster'] = cluster\n",
        "#Mean of clusters\n",
        "kmeans_mean_cluster = pd.DataFrame(round(X1.groupby('cluster').mean(),1))\n",
        "kmeans_mean_cluster"
      ],
      "execution_count": 0,
      "outputs": [
        {
          "output_type": "execute_result",
          "data": {
            "text/html": [
              "<div>\n",
              "<style scoped>\n",
              "    .dataframe tbody tr th:only-of-type {\n",
              "        vertical-align: middle;\n",
              "    }\n",
              "\n",
              "    .dataframe tbody tr th {\n",
              "        vertical-align: top;\n",
              "    }\n",
              "\n",
              "    .dataframe thead th {\n",
              "        text-align: right;\n",
              "    }\n",
              "</style>\n",
              "<table border=\"1\" class=\"dataframe\">\n",
              "  <thead>\n",
              "    <tr style=\"text-align: right;\">\n",
              "      <th></th>\n",
              "      <th>age</th>\n",
              "      <th>capital_gain</th>\n",
              "    </tr>\n",
              "    <tr>\n",
              "      <th>cluster</th>\n",
              "      <th></th>\n",
              "      <th></th>\n",
              "    </tr>\n",
              "  </thead>\n",
              "  <tbody>\n",
              "    <tr>\n",
              "      <th>1</th>\n",
              "      <td>58.8</td>\n",
              "      <td>334.9</td>\n",
              "    </tr>\n",
              "    <tr>\n",
              "      <th>2</th>\n",
              "      <td>40.4</td>\n",
              "      <td>165.3</td>\n",
              "    </tr>\n",
              "    <tr>\n",
              "      <th>3</th>\n",
              "      <td>25.0</td>\n",
              "      <td>140.6</td>\n",
              "    </tr>\n",
              "    <tr>\n",
              "      <th>4</th>\n",
              "      <td>46.6</td>\n",
              "      <td>99999.0</td>\n",
              "    </tr>\n",
              "    <tr>\n",
              "      <th>5</th>\n",
              "      <td>44.9</td>\n",
              "      <td>12308.5</td>\n",
              "    </tr>\n",
              "  </tbody>\n",
              "</table>\n",
              "</div>"
            ],
            "text/plain": [
              "          age  capital_gain\n",
              "cluster                    \n",
              "1        58.8         334.9\n",
              "2        40.4         165.3\n",
              "3        25.0         140.6\n",
              "4        46.6       99999.0\n",
              "5        44.9       12308.5"
            ]
          },
          "metadata": {
            "tags": []
          },
          "execution_count": 114
        }
      ]
    },
    {
      "cell_type": "code",
      "metadata": {
        "colab_type": "code",
        "id": "wbCCc3ilHQ30",
        "outputId": "697d63ee-6981-455f-dd24-5f8a87bfd371",
        "colab": {
          "base_uri": "https://localhost:8080/",
          "height": 536
        }
      },
      "source": [
        "from matplotlib import pyplot as plt\n",
        "from scipy.cluster.hierarchy import dendrogram, linkage\n",
        "import numpy as np\n",
        "plt.figure(figsize=(10, 8))\n",
        "plt.scatter(dataset1_standardized.iloc[:,0], dataset1_standardized.iloc[:,1],c=y_kmeans, cmap='prism')  # plot points with cluster dependent colors\n",
        "plt.title('Adult Data K Means Cluster')\n",
        "plt.show()"
      ],
      "execution_count": 0,
      "outputs": [
        {
          "output_type": "display_data",
          "data": {
            "image/png": "[encoded data removed]",
            "text/plain": [
              "<Figure size 720x576 with 1 Axes>"
            ]
          },
          "metadata": {
            "tags": []
          }
        }
      ]
    },
    {
      "cell_type": "markdown",
      "metadata": {
        "colab_type": "text",
        "id": "UxktU9JDNABy"
      },
      "source": [
        "**Parameter Tuning**"
      ]
    },
    {
      "cell_type": "code",
      "metadata": {
        "colab_type": "code",
        "id": "7fh7FY0_NE4c",
        "outputId": "e434eb18-d8b5-479c-d00a-b18e9acec79d",
        "colab": {
          "base_uri": "https://localhost:8080/",
          "height": 51
        }
      },
      "source": [
        "# Grid search cross validation with Logistic Regression\n",
        "import numpy as np\n",
        "from sklearn.model_selection import GridSearchCV\n",
        "from sklearn.linear_model import LogisticRegression\n",
        "grid={\"C\":np.logspace(-3,3,7), \"penalty\":[\"l1\",\"l2\"]}# l1 lasso l2 ridge\n",
        "logreg=LogisticRegression()\n",
        "logreg_cv=GridSearchCV(logreg,grid,cv=10)\n",
        "logreg_cv.fit(X,y)\n",
        "\n",
        "print(\"tuned hpyerparameters :(best parameters) \",logreg_cv.best_params_)\n",
        "print(\"accuracy :\",logreg_cv.best_score_)"
      ],
      "execution_count": 0,
      "outputs": [
        {
          "output_type": "stream",
          "text": [
            "tuned hpyerparameters :(best parameters)  {'C': 1.0, 'penalty': 'l1'}\n",
            "accuracy : 0.8519716637320339\n"
          ],
          "name": "stdout"
        }
      ]
    },
    {
      "cell_type": "code",
      "metadata": {
        "colab_type": "code",
        "id": "5fMBmTnpPf6T",
        "outputId": "c1047167-3b91-4b4a-9c06-7f5c8265dffc",
        "colab": {
          "base_uri": "https://localhost:8080/",
          "height": 1000
        }
      },
      "source": [
        "#Logistic Regression with Best Parameters\n",
        "# Create logistic regression object\n",
        "logreg = LogisticRegression(C=1,penalty=\"l1\")\n",
        "# Train the model using the training sets and check score\n",
        "logreg.fit(X_train, y_train)\n",
        "#Predict Output\n",
        "log_predicted= logreg.predict(X_test)\n",
        "\n",
        "logreg_score = round(logreg.score(X_train, y_train) * 100, 2)\n",
        "logreg_score_test = round(logreg.score(X_test, y_test) * 100, 2)\n",
        "#Equation coefficient and Intercept\n",
        "print('Logistic Regression Training Score: \\n', logreg_score)\n",
        "print('Logistic Regression Test Score: \\n', logreg_score_test)\n",
        "print('Coefficient: \\n', logreg.coef_)\n",
        "print('Intercept: \\n', logreg.intercept_)\n",
        "print('Accuracy: \\n', accuracy_score(y_test,log_predicted))\n",
        "print('Confusion Matrix: \\n', confusion_matrix(y_test,log_predicted))\n",
        "print('Classification Report: \\n', classification_report(y_test,log_predicted))\n",
        "\n",
        "sns.heatmap(confusion_matrix(y_test,log_predicted),annot=True,fmt=\"d\")"
      ],
      "execution_count": 0,
      "outputs": [
        {
          "output_type": "stream",
          "text": [
            "Logistic Regression Training Score: \n",
            " 85.38\n",
            "Logistic Regression Test Score: \n",
            " 84.77\n",
            "Coefficient: \n",
            " [[ 1.78119213e-02  6.87802870e-07 -4.56113909e-02  3.19246338e-04\n",
            "   6.84003008e-04  2.86022908e-02 -6.45182167e-01  0.00000000e+00\n",
            "  -5.71306247e-01 -3.01217326e-01 -1.00102927e+00 -7.57942414e-01\n",
            "   0.00000000e+00 -1.54803051e-01  2.12122083e-01 -9.30340738e-01\n",
            "  -7.65430275e-01 -8.34769003e-01 -4.39040971e-01  1.34848480e+00\n",
            "   1.21474398e+00  2.00493183e+00  3.17083028e+00  6.50858479e-01\n",
            "   2.43658343e+00 -8.45675014e-01  2.94532343e+00  1.01466649e+00\n",
            "   0.00000000e+00  3.34664407e-01 -4.83530917e-02 -5.47898222e-01\n",
            "  -1.41832820e-01 -1.42358870e-03  0.00000000e+00 -1.02394355e-01\n",
            "   6.75961265e-01 -9.41841259e-01 -7.41919447e-01 -3.90513905e-01\n",
            "  -8.62569342e-01 -1.38130359e+00  2.54729592e-01  3.65834909e-01\n",
            "   1.58634230e-01  4.66752156e-01 -1.43293640e-01 -1.44910639e+00\n",
            "  -1.83483228e+00 -2.28513463e+00 -1.65790342e+00  9.57681830e-01\n",
            "  -3.02309835e-01 -6.26919737e-01 -4.97053797e-01 -3.91314557e-01\n",
            "   6.14682930e-01  0.00000000e+00 -8.61998566e-01 -2.30533905e+00\n",
            "  -1.13298963e-01 -1.15241409e+00 -2.37093099e-01 -9.86916893e-01\n",
            "   1.13735233e-01  0.00000000e+00 -1.99248794e-01 -1.47967240e-01\n",
            "   0.00000000e+00  0.00000000e+00  0.00000000e+00  0.00000000e+00\n",
            "  -3.72815937e-01  0.00000000e+00 -1.43045272e-01 -2.87087417e-01\n",
            "   9.02261197e-01  0.00000000e+00  2.13708175e-02 -1.42231538e-01\n",
            "  -1.72835570e-01 -1.33566325e+00 -1.51128946e+00 -1.40243984e-01\n",
            "  -5.20643024e-01  5.28750295e-03 -2.97145489e-01  0.00000000e+00\n",
            "  -2.33066562e-01 -1.33120479e-01 -1.17205715e+00 -4.18209551e-01\n",
            "  -9.62596915e-01 -7.35795470e-01 -2.89724760e-01 -1.34248028e+00\n",
            "   0.00000000e+00]]\n",
            "Intercept: \n",
            " [-3.03644545]\n",
            "Accuracy: \n",
            " 0.8476762437726063\n",
            "Confusion Matrix: \n",
            " [[10325   775]\n",
            " [ 1457  2096]]\n",
            "Classification Report: \n",
            "               precision    recall  f1-score   support\n",
            "\n",
            "       <=50K       0.88      0.93      0.90     11100\n",
            "        >50K       0.73      0.59      0.65      3553\n",
            "\n",
            "    accuracy                           0.85     14653\n",
            "   macro avg       0.80      0.76      0.78     14653\n",
            "weighted avg       0.84      0.85      0.84     14653\n",
            "\n"
          ],
          "name": "stdout"
        },
        {
          "output_type": "execute_result",
          "data": {
            "text/plain": [
              "<matplotlib.axes._subplots.AxesSubplot at 0x7f5357493518>"
            ]
          },
          "metadata": {
            "tags": []
          },
          "execution_count": 77
        },
        {
          "output_type": "display_data",
          "data": {
            "image/png": "[encoded data removed]",
            "text/plain": [
              "<Figure size 432x288 with 2 Axes>"
            ]
          },
          "metadata": {
            "tags": []
          }
        }
      ]
    }
  ]
}